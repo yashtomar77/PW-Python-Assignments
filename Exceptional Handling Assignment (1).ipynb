{
 "cells": [
  {
   "cell_type": "markdown",
   "id": "5bdced57-b05a-468c-b7ca-07225b8b3605",
   "metadata": {},
   "source": [
    "# EXCEPTIONAL HANDLING ASSIGNMENT - 1"
   ]
  },
  {
   "cell_type": "markdown",
   "id": "f8a07f67-c56b-4160-83d6-a4f22362083c",
   "metadata": {},
   "source": [
    "# Q1. What is an Exception in python ? Write the difference between Exception and Syntax Errors."
   ]
  },
  {
   "cell_type": "markdown",
   "id": "7a0f406c-920c-4520-b8d3-bec269d108a4",
   "metadata": {},
   "source": [
    "In python, Exception s an event that occurs during the execution of a program that disrupts the normal flow of instructions. It is a way to handle errors and exceptional situations that may occur while a program is running. \n",
    "\n",
    "The Major differences between Exceptons and Syntax Errors are that Exceptions can be caught and handled using the 'try' and 'except' statements and On the other hand, syntax errors are a type of error that occur when you write invalid Python code. Syntax errors typically indicate that there is a mistake in the structure of the code, such as incorrect indentation, missing parentheses, or using an invalid keyword./"
   ]
  },
  {
   "cell_type": "markdown",
   "id": "bfcb02fb-e2b9-4e26-ad04-68d9fecc0342",
   "metadata": {},
   "source": [
    "# Q2. What happens when an exception is not handled? Explain with an example."
   ]
  },
  {
   "cell_type": "markdown",
   "id": "25b1495e-e66f-434c-b09d-7dfd1018f0d7",
   "metadata": {},
   "source": [
    "When an exception is not handled, it results in the termination of the program and an error message is displayed, indicating the type of exception that occurred. This behavior is known as an \"unhandled exception.\""
   ]
  },
  {
   "cell_type": "code",
   "execution_count": 1,
   "id": "76b9f02a-d94e-4640-ac5e-3c48378ed65e",
   "metadata": {},
   "outputs": [
    {
     "ename": "ZeroDivisionError",
     "evalue": "division by zero",
     "output_type": "error",
     "traceback": [
      "\u001b[0;31m---------------------------------------------------------------------------\u001b[0m",
      "\u001b[0;31mZeroDivisionError\u001b[0m                         Traceback (most recent call last)",
      "Cell \u001b[0;32mIn [1], line 5\u001b[0m\n\u001b[1;32m      2\u001b[0m     \u001b[38;5;28;01mreturn\u001b[39;00m a\u001b[38;5;241m/\u001b[39mb\n\u001b[1;32m      4\u001b[0m \u001b[38;5;66;03m# Calling the function with invalid arguemnents\u001b[39;00m\n\u001b[0;32m----> 5\u001b[0m \u001b[43mdivide\u001b[49m\u001b[43m(\u001b[49m\u001b[38;5;241;43m10\u001b[39;49m\u001b[43m,\u001b[49m\u001b[38;5;241;43m0\u001b[39;49m\u001b[43m)\u001b[49m\n",
      "Cell \u001b[0;32mIn [1], line 2\u001b[0m, in \u001b[0;36mdivide\u001b[0;34m(a, b)\u001b[0m\n\u001b[1;32m      1\u001b[0m \u001b[38;5;28;01mdef\u001b[39;00m \u001b[38;5;21mdivide\u001b[39m(a,b):\n\u001b[0;32m----> 2\u001b[0m     \u001b[38;5;28;01mreturn\u001b[39;00m \u001b[43ma\u001b[49m\u001b[38;5;241;43m/\u001b[39;49m\u001b[43mb\u001b[49m\n",
      "\u001b[0;31mZeroDivisionError\u001b[0m: division by zero"
     ]
    }
   ],
   "source": [
    "def divide(a,b):\n",
    "    return a/b\n",
    "\n",
    "# Calling the function with invalid arguemnents\n",
    "divide(10,0)"
   ]
  },
  {
   "cell_type": "code",
   "execution_count": 2,
   "id": "0444d5f0-2202-4c59-8769-c848a3436d1b",
   "metadata": {},
   "outputs": [
    {
     "name": "stdout",
     "output_type": "stream",
     "text": [
      "cannot do division by zero\n"
     ]
    }
   ],
   "source": [
    "# To handle this exception we can use 'try' and 'except' statement\n",
    "\n",
    "try:\n",
    "    divide(10/0)\n",
    "except ZeroDivisionError as a:\n",
    "    print(\"cannot do\",a)"
   ]
  },
  {
   "cell_type": "markdown",
   "id": "0ec335f3-a696-4eca-aa1f-797d5d21511c",
   "metadata": {},
   "source": [
    "# Q3. Which Python statements are used to catch and handle Exception? Explain with an example."
   ]
  },
  {
   "cell_type": "markdown",
   "id": "28b185ff-a963-4135-a3ed-b1711582c316",
   "metadata": {},
   "source": [
    "In Python , the 'try' and 'except' statements are used together to catch and handle exceptions. The 'try' block contains the code that may raise an exception , and the 'except' block where you specify how to handle the exception if it occurs . Here's an example how to use 'try' and 'except' statements.   "
   ]
  },
  {
   "cell_type": "code",
   "execution_count": 3,
   "id": "03b7959c-d171-44dc-8212-df7ead015ccf",
   "metadata": {},
   "outputs": [
    {
     "name": "stdout",
     "output_type": "stream",
     "text": [
      "The Error occured is list index out of range\n"
     ]
    }
   ],
   "source": [
    "try:\n",
    "    a= [1,2,3,4,5]\n",
    "    result = a[7]\n",
    "    result\n",
    "except IndexError as e:\n",
    "    print(\"The Error occured is\",e)\n",
    "except Exception as e:\n",
    "    print(\"The error was\",e)"
   ]
  },
  {
   "cell_type": "markdown",
   "id": "52f1216f-b790-4bb3-897f-6048dd106e88",
   "metadata": {},
   "source": [
    "# Q4. Explain with an example:\n",
    "      1. Try and else\n",
    "      2. Finally\n",
    "      3. Raise"
   ]
  },
  {
   "cell_type": "code",
   "execution_count": 4,
   "id": "8ace817a-0285-41c9-94c6-9ea723080486",
   "metadata": {},
   "outputs": [
    {
     "name": "stdout",
     "output_type": "stream",
     "text": [
      "This is my except block and my error is division by zero\n"
     ]
    }
   ],
   "source": [
    "# Try and else example\n",
    "\n",
    "try : \n",
    "    f = open(\"test1.txt\" , \"w\")\n",
    "    f.write(\"llllaaaalll\",10/0 )\n",
    "except ZeroDivisionError as a:\n",
    "    print(\"This is my except block and my error is\" , a) \n",
    "else:\n",
    "    f.close()\n",
    "    print(\" This will be executed once your try will execute without error\")"
   ]
  },
  {
   "cell_type": "markdown",
   "id": "dc4a66ee-c54b-49cd-9f75-74b48d4e88b4",
   "metadata": {},
   "source": [
    "# Q5. What are Custom Exceptions in python ? Why do we need Custom Exceptions? Explain with an example."
   ]
  },
  {
   "cell_type": "markdown",
   "id": "73b3d0d3-3737-492e-9435-7727e2b2f8fa",
   "metadata": {},
   "source": [
    "In Python, custom exceptions are user-defined exceptions that you create by subclassing the built-in Exception class or any other existing exception class. Custom exceptions allow you to define and raise exceptions that are specific to your application or domain."
   ]
  },
  {
   "cell_type": "code",
   "execution_count": 16,
   "id": "2ba8a8a6-c4a4-44bc-a0d9-1cfb72ceba74",
   "metadata": {},
   "outputs": [
    {
     "name": "stdout",
     "output_type": "stream",
     "text": [
      "Invalid input: Expected an integer.\n"
     ]
    }
   ],
   "source": [
    "class InvalidInputError(Exception):\n",
    "    pass\n",
    "\n",
    "class CorrectValue(InvalidInputError):\n",
    "    pass\n",
    "\n",
    "def process_input(value):\n",
    "    if type(value) != (int):\n",
    "        raise InvalidInputError(\"Invalid input: Expected an integer.\")\n",
    "    else:\n",
    "        raise CorrectValue(\"you are right\")\n",
    "   \n",
    "\n",
    "\n",
    "try:\n",
    "    process_input(\"abc\")\n",
    "except InvalidInputError as e:\n",
    "    print(e)\n",
    "except CorrectValue as e:\n",
    "    print(e)\n"
   ]
  },
  {
   "cell_type": "markdown",
   "id": "46668315-278b-42d8-8fef-b3abe17892e9",
   "metadata": {},
   "source": [
    "Q6. Create a custom exception class. Use this class to handle an exception."
   ]
  },
  {
   "cell_type": "code",
   "execution_count": 24,
   "id": "3f61ebb6-f11f-46e1-bdea-3091682621d3",
   "metadata": {},
   "outputs": [
    {
     "name": "stdout",
     "output_type": "stream",
     "text": [
      "Insufficient amount..\n",
      "Invalid withdrawal amount.\n"
     ]
    }
   ],
   "source": [
    "class WithdrawalError(Exception):\n",
    "    pass\n",
    "\n",
    "class InsufficientAmountError(WithdrawalError):\n",
    "    pass\n",
    "\n",
    "class InvalidAmountError(WithdrawalError):\n",
    "    pass\n",
    "\n",
    "class BankAccount:\n",
    "    def __init__(self, balance):\n",
    "        self.balance = balance\n",
    "\n",
    "    def withdraw(self, amount):\n",
    "        if amount <= 0:\n",
    "            raise InvalidAmountError(\"Invalid withdrawal amount.\")\n",
    "        if amount > self.balance:\n",
    "            raise InsufficientAmountError(\"Insufficient amount..\")\n",
    "\n",
    "\n",
    "account = BankAccount(1000)\n",
    "\n",
    "try:\n",
    "    account.withdraw(1500)\n",
    "except InsufficientAmountError as e:\n",
    "    print(str(e))\n",
    "\n",
    "try:\n",
    "    account.withdraw(-100)\n",
    "except InvalidAmountError as e:\n",
    "    print(str(e))\n"
   ]
  },
  {
   "cell_type": "code",
   "execution_count": null,
   "id": "8c38eead-bdcd-4b78-9833-5a13408497c4",
   "metadata": {},
   "outputs": [],
   "source": [
    "\n"
   ]
  }
 ],
 "metadata": {
  "kernelspec": {
   "display_name": "Python 3 (ipykernel)",
   "language": "python",
   "name": "python3"
  },
  "language_info": {
   "codemirror_mode": {
    "name": "ipython",
    "version": 3
   },
   "file_extension": ".py",
   "mimetype": "text/x-python",
   "name": "python",
   "nbconvert_exporter": "python",
   "pygments_lexer": "ipython3",
   "version": "3.10.6"
  }
 },
 "nbformat": 4,
 "nbformat_minor": 5
}

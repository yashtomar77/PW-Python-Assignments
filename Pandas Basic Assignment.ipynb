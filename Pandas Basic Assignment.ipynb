{
 "cells": [
  {
   "cell_type": "markdown",
   "id": "37bef793",
   "metadata": {},
   "source": [
    "# Pandas Basic Assignmnet"
   ]
  },
  {
   "cell_type": "markdown",
   "id": "4e8d34fa",
   "metadata": {},
   "source": [
    "# Q1. Create a Pandas Series that contains the following data: 4, 8, 15, 16, 23, and 42. Then, print the series."
   ]
  },
  {
   "cell_type": "code",
   "execution_count": 1,
   "id": "772bfe63",
   "metadata": {},
   "outputs": [
    {
     "name": "stdout",
     "output_type": "stream",
     "text": [
      "Requirement already satisfied: pandas in c:\\users\\hp\\anaconda3\\lib\\site-packages (1.3.4)\n",
      "Requirement already satisfied: numpy>=1.17.3 in c:\\users\\hp\\anaconda3\\lib\\site-packages (from pandas) (1.20.3)\n",
      "Requirement already satisfied: pytz>=2017.3 in c:\\users\\hp\\anaconda3\\lib\\site-packages (from pandas) (2021.3)\n",
      "Requirement already satisfied: python-dateutil>=2.7.3 in c:\\users\\hp\\anaconda3\\lib\\site-packages (from pandas) (2.8.2)\n",
      "Requirement already satisfied: six>=1.5 in c:\\users\\hp\\appdata\\roaming\\python\\python39\\site-packages (from python-dateutil>=2.7.3->pandas) (1.16.0)\n",
      "Note: you may need to restart the kernel to use updated packages.\n"
     ]
    }
   ],
   "source": [
    "pip install pandas"
   ]
  },
  {
   "cell_type": "code",
   "execution_count": 2,
   "id": "74601c03",
   "metadata": {},
   "outputs": [
    {
     "name": "stdout",
     "output_type": "stream",
     "text": [
      "0     4\n",
      "1     8\n",
      "2    15\n",
      "3    16\n",
      "4    23\n",
      "5    42\n",
      "dtype: int64\n"
     ]
    }
   ],
   "source": [
    "import pandas as pd\n",
    "\n",
    "data = [4,8,15,16,23,42]\n",
    "\n",
    "series= pd.Series(data)\n",
    "\n",
    "print(series)"
   ]
  },
  {
   "cell_type": "markdown",
   "id": "781b5127",
   "metadata": {},
   "source": [
    "# Q2. Create a variable of list type containing 10 elements in it, and apply pandas.Series function on thevariable print it."
   ]
  },
  {
   "cell_type": "code",
   "execution_count": 3,
   "id": "a43c1519",
   "metadata": {},
   "outputs": [
    {
     "name": "stdout",
     "output_type": "stream",
     "text": [
      "0     1\n",
      "1     2\n",
      "2     3\n",
      "3     4\n",
      "4     5\n",
      "5     6\n",
      "6     7\n",
      "7     8\n",
      "8     9\n",
      "9    10\n",
      "dtype: int64\n"
     ]
    }
   ],
   "source": [
    "l = [1,2,3,4,5,6,7,8,9,10]\n",
    "\n",
    "series_var = pd.Series(l)\n",
    "\n",
    "print(series_var)"
   ]
  },
  {
   "cell_type": "markdown",
   "id": "239704fb",
   "metadata": {},
   "source": [
    "# Q3. Create a Pandas DataFrame that contains the following data:\n",
    "\n",
    "Name        Age       Gender\n",
    "\n",
    "Alice       25        Female\n",
    "\n",
    "Bob         30        Male\n",
    "\n",
    "Claire      27        Female"
   ]
  },
  {
   "cell_type": "code",
   "execution_count": 4,
   "id": "fffc0316",
   "metadata": {},
   "outputs": [
    {
     "name": "stdout",
     "output_type": "stream",
     "text": [
      "     Name  Age  Gender\n",
      "0   Alice   25  Female\n",
      "1     Bob   30    Male\n",
      "2  Claire   27  Female\n"
     ]
    }
   ],
   "source": [
    "Data = {\n",
    "    'Name' : ['Alice' , 'Bob' , 'Claire'],\n",
    "    'Age' : [25 , 30 , 27],\n",
    "    'Gender' : ['Female' , 'Male' , 'Female']\n",
    "}\n",
    "\n",
    "df = pd.DataFrame(Data)\n",
    "\n",
    "print(df)"
   ]
  },
  {
   "cell_type": "markdown",
   "id": "44c3b6ac",
   "metadata": {},
   "source": [
    "# Q4. What is ‘DataFrame’ in pandas and how is it different from pandas.series? Explain with an example."
   ]
  },
  {
   "cell_type": "markdown",
   "id": "aac300de",
   "metadata": {},
   "source": [
    "The DataFrame is a fundamental data structure that represents a two-dimensional, size-mutable, and heterogeneous tabular data structure. It is similar to a spreadsheet or a SQL table, where data is organized in rows and columns. \n",
    "\n",
    "On the other hand, a Series is another data structure provided by pandas, which represents a one-dimensional labeled array. It can be thought of as a single column of data with an associated label, called an index. "
   ]
  },
  {
   "cell_type": "code",
   "execution_count": 5,
   "id": "7c941735",
   "metadata": {},
   "outputs": [
    {
     "name": "stdout",
     "output_type": "stream",
     "text": [
      "DataFrame:\n",
      "     Name  Age        City\n",
      "0  Rakesh   25       Bihar\n",
      "1  Manish   30  Uttrakhand\n",
      "2   Gopal   22     Chennai\n",
      "3   Vivek   28    Himachal\n",
      "\n",
      "Series:\n",
      "0    25\n",
      "1    30\n",
      "2    22\n",
      "3    28\n",
      "Name: Age, dtype: int64\n"
     ]
    }
   ],
   "source": [
    "data1 = {\n",
    "    'Name': ['Rakesh', 'Manish', 'Gopal', 'Vivek'],\n",
    "    'Age': [25, 30, 22, 28],\n",
    "    'City': ['Bihar', 'Uttrakhand', 'Chennai', 'Himachal']\n",
    "}\n",
    "\n",
    "df = pd.DataFrame(data1)\n",
    "\n",
    "ages = pd.Series([25, 30, 22, 28], name='Age')\n",
    "\n",
    "print(\"DataFrame:\")\n",
    "print(df)\n",
    "print(\"\\nSeries:\")\n",
    "print(ages)\n"
   ]
  },
  {
   "cell_type": "markdown",
   "id": "fde68be5",
   "metadata": {},
   "source": [
    "# Q5. What are some common functions you can use to manipulate data in a Pandas DataFrame? Canyou give an example of when you might use one of these functions?"
   ]
  },
  {
   "cell_type": "markdown",
   "id": "269361d2",
   "metadata": {},
   "source": [
    "Some Functions that we have taught in Pandas class to Manpulate data in a Pandas DataFrame.\n",
    "\n",
    "Here are they....\n",
    "\n"
   ]
  },
  {
   "cell_type": "markdown",
   "id": "1cc90d6c",
   "metadata": {},
   "source": [
    "1. Head() and Tail():\n",
    "\n",
    "These functions allow you to view the first few or last few rows of a DataFrame."
   ]
  },
  {
   "cell_type": "code",
   "execution_count": 2,
   "id": "2863e908",
   "metadata": {},
   "outputs": [
    {
     "name": "stdout",
     "output_type": "stream",
     "text": [
      "      Name  Age\n",
      "0    Alice   25\n",
      "1      Bob   30\n",
      "2  Charlie   22\n",
      "3    David   28\n",
      "      Name  Age\n",
      "2  Charlie   22\n",
      "3    David   28\n"
     ]
    }
   ],
   "source": [
    "import pandas as pd\n",
    "\n",
    "\n",
    "data = {'Name': ['Alice', 'Bob', 'Charlie', 'David'],\n",
    "        'Age': [25, 30, 22, 28]}\n",
    "\n",
    "df = pd.DataFrame(data)\n",
    "\n",
    "print(df.head())  # View the first 5 rows\n",
    "print(df.tail(2))  # View the last 2 rows\n"
   ]
  },
  {
   "cell_type": "markdown",
   "id": "15417fc6",
   "metadata": {},
   "source": [
    "2. Columns() :- Return the ;idt of columns"
   ]
  },
  {
   "cell_type": "code",
   "execution_count": 3,
   "id": "63205e77",
   "metadata": {},
   "outputs": [
    {
     "data": {
      "text/plain": [
       "Index(['Name', 'Age'], dtype='object')"
      ]
     },
     "execution_count": 3,
     "metadata": {},
     "output_type": "execute_result"
    }
   ],
   "source": [
    "df.columns"
   ]
  },
  {
   "cell_type": "markdown",
   "id": "88f28024",
   "metadata": {},
   "source": [
    "3. describe(): This function provides summary statistics of the numerical columns in the DataFrame, such as count, mean, standard deviation, minimum, and maximum."
   ]
  },
  {
   "cell_type": "code",
   "execution_count": 4,
   "id": "7be15435",
   "metadata": {},
   "outputs": [
    {
     "name": "stdout",
     "output_type": "stream",
     "text": [
      "         Age\n",
      "count   4.00\n",
      "mean   26.25\n",
      "std     3.50\n",
      "min    22.00\n",
      "25%    24.25\n",
      "50%    26.50\n",
      "75%    28.50\n",
      "max    30.00\n"
     ]
    }
   ],
   "source": [
    "print(df.describe())  # Summary statistics of numerical columns\n"
   ]
  },
  {
   "cell_type": "markdown",
   "id": "b19db78a",
   "metadata": {},
   "source": [
    "# Q6. Which of the following is mutable in nature Series, DataFrame, Panel?"
   ]
  },
  {
   "cell_type": "markdown",
   "id": "bf9e3625",
   "metadata": {},
   "source": [
    "Both Series and DataFrame in pandas are mutable, meaning you can modify their contents after creation.\n",
    "\n",
    "Series represents a one-dimensional labeled array, and you can change its values, add new elements, or remove existing ones.\n",
    "\n",
    "\n",
    "Similarly, a DataFrame, which is a two-dimensional tabular data structure, is also mutable, allowing you to alter its values, add or remove columns, and perform various data manipulation operations. However, the Panel data structure, which was a three-dimensional data structure in pandas, has been deprecated and is not recommended for new code due to the availability of more flexible alternatives like MultiIndex DataFrames."
   ]
  },
  {
   "cell_type": "code",
   "execution_count": null,
   "id": "be0792fc",
   "metadata": {},
   "outputs": [],
   "source": []
  }
 ],
 "metadata": {
  "kernelspec": {
   "display_name": "Python 3 (ipykernel)",
   "language": "python",
   "name": "python3"
  },
  "language_info": {
   "codemirror_mode": {
    "name": "ipython",
    "version": 3
   },
   "file_extension": ".py",
   "mimetype": "text/x-python",
   "name": "python",
   "nbconvert_exporter": "python",
   "pygments_lexer": "ipython3",
   "version": "3.9.7"
  }
 },
 "nbformat": 4,
 "nbformat_minor": 5
}

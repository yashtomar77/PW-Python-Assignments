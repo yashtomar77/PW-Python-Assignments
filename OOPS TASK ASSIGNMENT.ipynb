{
 "cells": [
  {
   "cell_type": "markdown",
   "id": "87b5feb8",
   "metadata": {},
   "source": [
    "# OOPS ASSIGNMENT"
   ]
  },
  {
   "cell_type": "markdown",
   "id": "3d543f21",
   "metadata": {},
   "source": [
    "Q1, Create a vehicle class with an init method having instance variables as name_of_vehicle, max_speed\n",
    "and average_of_vehicle."
   ]
  },
  {
   "cell_type": "code",
   "execution_count": 70,
   "id": "94b91033",
   "metadata": {},
   "outputs": [],
   "source": [
    "class vehicle :\n",
    "    \n",
    "    def __init__ (self, name_of_vehicle , max_speed , average_of_vehicle):\n",
    "        self.name_of_vehicle = name_of_vehicle\n",
    "        self.max_speed = max_speed\n",
    "        self.average_of_vehicle = average_of_vehicle\n",
    "        \n",
    "        \n",
    "obj_vehicle = vehicle(\"Mahindra thar\" , 180 , 50)"
   ]
  },
  {
   "cell_type": "code",
   "execution_count": 71,
   "id": "9dc66c71",
   "metadata": {},
   "outputs": [
    {
     "data": {
      "text/plain": [
       "180"
      ]
     },
     "execution_count": 71,
     "metadata": {},
     "output_type": "execute_result"
    }
   ],
   "source": [
    "obj_vehicle.max_speed"
   ]
  },
  {
   "cell_type": "code",
   "execution_count": 72,
   "id": "a3770cc9",
   "metadata": {},
   "outputs": [
    {
     "data": {
      "text/plain": [
       "50"
      ]
     },
     "execution_count": 72,
     "metadata": {},
     "output_type": "execute_result"
    }
   ],
   "source": [
    "obj_vehicle.average_of_vehicle"
   ]
  },
  {
   "cell_type": "code",
   "execution_count": 11,
   "id": "b4136e95",
   "metadata": {},
   "outputs": [
    {
     "data": {
      "text/plain": [
       "'Mahindra thar'"
      ]
     },
     "execution_count": 11,
     "metadata": {},
     "output_type": "execute_result"
    }
   ],
   "source": [
    "obj_vehicle.name_of_vehicle"
   ]
  },
  {
   "cell_type": "markdown",
   "id": "3e8a21b1",
   "metadata": {},
   "source": [
    "Q2. Create a child class car from the vehicle class created in Que 1, which will inherit the vehicle class.\n",
    "Create a method named seating_capacity which takes capacity as an argument and returns the name of\n",
    "the vehicle and its seating capacity."
   ]
  },
  {
   "cell_type": "code",
   "execution_count": 81,
   "id": "e301129b",
   "metadata": {},
   "outputs": [],
   "source": [
    "class child_class (vehicle):\n",
    "    def __init__(self, name_of_vehicle, max_speed, average_of_vehicle):\n",
    "        super().__init__(name_of_vehicle, max_speed, average_of_vehicle)\n",
    "\n",
    "    def seating_capacity(self, capacity):\n",
    "        return f\"The {self.name_of_vehicle} has a seating capacity of {capacity}.\""
   ]
  },
  {
   "cell_type": "code",
   "execution_count": 86,
   "id": "5a92615b",
   "metadata": {},
   "outputs": [
    {
     "data": {
      "text/plain": [
       "'The Mahindra thar has a seating capacity of 2.'"
      ]
     },
     "execution_count": 86,
     "metadata": {},
     "output_type": "execute_result"
    }
   ],
   "source": [
    "obj_child_class = child_class(\"Mahindra thar\", 200, 4)\n",
    "\n",
    "obj_child_class.seating_capacity(2)"
   ]
  },
  {
   "cell_type": "markdown",
   "id": "f774c268",
   "metadata": {},
   "source": [
    "Q3. What is multiple inheritance? Write a python code to demonstrate multiple inheritance."
   ]
  },
  {
   "cell_type": "markdown",
   "id": "87b52b2e",
   "metadata": {},
   "source": [
    "Multiple inheritance is a object-oriented programming where a class can inherit attributes and methods from multiple parent classes. This means that a class can have more than one parent class, allowing it to inherit and combine functionalities from different sources."
   ]
  },
  {
   "cell_type": "code",
   "execution_count": 1,
   "id": "8b91e9c0",
   "metadata": {},
   "outputs": [],
   "source": [
    "class first_name:\n",
    "    \n",
    "    def first(self):\n",
    "        return \"Mahendra \"\n",
    "    \n",
    "class middle_name():\n",
    "    \n",
    "    def middle(self):\n",
    "        return \"singh \"\n",
    "    \n",
    "class last_name(first_name , middle_name):\n",
    "    \n",
    "    def last(self):\n",
    "        return \"dhoni\"\n",
    "    \n",
    "obj_name = last_name()"
   ]
  },
  {
   "cell_type": "code",
   "execution_count": 2,
   "id": "47d94d9f",
   "metadata": {},
   "outputs": [
    {
     "data": {
      "text/plain": [
       "'Mahendra '"
      ]
     },
     "execution_count": 2,
     "metadata": {},
     "output_type": "execute_result"
    }
   ],
   "source": [
    "obj_name.first()"
   ]
  },
  {
   "cell_type": "code",
   "execution_count": 5,
   "id": "5b9a41c5",
   "metadata": {},
   "outputs": [
    {
     "data": {
      "text/plain": [
       "'singh '"
      ]
     },
     "execution_count": 5,
     "metadata": {},
     "output_type": "execute_result"
    }
   ],
   "source": [
    "obj_name.middle()"
   ]
  },
  {
   "cell_type": "code",
   "execution_count": 6,
   "id": "c08868bb",
   "metadata": {},
   "outputs": [
    {
     "data": {
      "text/plain": [
       "'dhoni'"
      ]
     },
     "execution_count": 6,
     "metadata": {},
     "output_type": "execute_result"
    }
   ],
   "source": [
    "obj_name.last()"
   ]
  },
  {
   "cell_type": "markdown",
   "id": "b537a9b9",
   "metadata": {},
   "source": [
    "Q4. What are getter and setter in python? Create a class and create a getter and a setter method in this\n",
    "class."
   ]
  },
  {
   "cell_type": "markdown",
   "id": "d2626cb7",
   "metadata": {},
   "source": [
    "\n",
    "In Python, getter and setter methods are used to access and modify the values of class attributes, providing a way to encapsulate data and control access to it. The getter method retrieves the value of an attribute, while the setter method sets or updates its value."
   ]
  },
  {
   "cell_type": "code",
   "execution_count": 7,
   "id": "fc69be07",
   "metadata": {},
   "outputs": [],
   "source": [
    "class player_details :\n",
    "\n",
    "    \n",
    "    def __init__(self, name , aadhar_id , mobile_no):\n",
    "        self.__name = name\n",
    "        self.__aadhar_id = aadhar_id\n",
    "        self.__mobile_no = mobile_no\n",
    "        \n",
    "    def set_aadhar_id(self,aadhar_id):\n",
    "        return self.__aadhar_id\n",
    "    \n",
    "    def get_aadhar_id(self):\n",
    "        return self.__aadhar_id"
   ]
  },
  {
   "cell_type": "code",
   "execution_count": 10,
   "id": "edceb52c",
   "metadata": {},
   "outputs": [],
   "source": [
    "obj = player_details(\"lionel messi\" , 111256 , 9188856478 )"
   ]
  },
  {
   "cell_type": "code",
   "execution_count": 12,
   "id": "daddb171",
   "metadata": {},
   "outputs": [
    {
     "data": {
      "text/plain": [
       "111256"
      ]
     },
     "execution_count": 12,
     "metadata": {},
     "output_type": "execute_result"
    }
   ],
   "source": [
    "obj.set_aadhar_id(1111287)"
   ]
  },
  {
   "cell_type": "code",
   "execution_count": 14,
   "id": "1c4bb9ff",
   "metadata": {},
   "outputs": [
    {
     "data": {
      "text/plain": [
       "111256"
      ]
     },
     "execution_count": 14,
     "metadata": {},
     "output_type": "execute_result"
    }
   ],
   "source": [
    "obj.get_aadhar_id()"
   ]
  },
  {
   "cell_type": "markdown",
   "id": "eb748646",
   "metadata": {},
   "source": [
    "Q5.What is method overriding in python? Write a python code to demonstrate method overriding."
   ]
  },
  {
   "cell_type": "markdown",
   "id": "925719e1",
   "metadata": {},
   "source": [
    "Method overriding in Python is a feature of Oops programming that allows a subclass to provide a different implementation of a method that is already defined in its superclass. The method in the subclass has the same name as the method in the superclass, but it has a different implementation."
   ]
  },
  {
   "cell_type": "code",
   "execution_count": 15,
   "id": "4946232d",
   "metadata": {},
   "outputs": [
    {
     "name": "stdout",
     "output_type": "stream",
     "text": [
      "Driving a vehicle.\n",
      "Driving a car.\n",
      "Driving a motorcycle.\n"
     ]
    }
   ],
   "source": [
    "class Vehicle:\n",
    "    def drive(self):\n",
    "        print(\"Driving a vehicle.\")\n",
    "\n",
    "\n",
    "class Car(Vehicle):\n",
    "    def drive(self):\n",
    "        print(\"Driving a car.\")\n",
    "\n",
    "\n",
    "class Motorcycle(Vehicle):\n",
    "    def drive(self):\n",
    "        print(\"Driving a motorcycle.\")\n",
    "\n",
    "\n",
    "vehicle = Vehicle()\n",
    "vehicle.drive()\n",
    "\n",
    "car = Car()\n",
    "car.drive()  \n",
    "\n",
    "motorcycle = Motorcycle()\n",
    "motorcycle.drive()  \n"
   ]
  },
  {
   "cell_type": "code",
   "execution_count": null,
   "id": "6f4f3e6c",
   "metadata": {},
   "outputs": [],
   "source": []
  }
 ],
 "metadata": {
  "kernelspec": {
   "display_name": "Python 3 (ipykernel)",
   "language": "python",
   "name": "python3"
  },
  "language_info": {
   "codemirror_mode": {
    "name": "ipython",
    "version": 3
   },
   "file_extension": ".py",
   "mimetype": "text/x-python",
   "name": "python",
   "nbconvert_exporter": "python",
   "pygments_lexer": "ipython3",
   "version": "3.9.7"
  }
 },
 "nbformat": 4,
 "nbformat_minor": 5
}

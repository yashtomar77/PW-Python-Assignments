{
 "cells": [
  {
   "cell_type": "markdown",
   "id": "8a57cc1b",
   "metadata": {},
   "source": [
    "Q1. Create one variable containing following type of data:\n",
    "\n",
    "(i) string\n",
    "(ii) list\n",
    "(iii) float\n",
    "(iv) tuple"
   ]
  },
  {
   "cell_type": "code",
   "execution_count": 1,
   "id": "f4565c36",
   "metadata": {},
   "outputs": [
    {
     "name": "stdout",
     "output_type": "stream",
     "text": [
      "['hello', [1, 2, 3], 64.5, (10, 20, 30)]\n"
     ]
    }
   ],
   "source": [
    "a = [\"hello\",[1,2,3],64.5,(10,20,30)]\n",
    "\n",
    "print(a)"
   ]
  },
  {
   "cell_type": "markdown",
   "id": "6577ee1c",
   "metadata": {},
   "source": [
    "Q2. Given are some following variables containing data:\n",
    "\n",
    "(i) var1 = ‘ ‘\n",
    "(ii) var2 = ‘[ DS , ML , Python]’\n",
    "(iii) var3 = [ ‘DS’ , ’ML’ , ‘Python’ ]\n",
    "(iv) var4 = 1."
   ]
  },
  {
   "cell_type": "code",
   "execution_count": null,
   "id": "a10f24b8",
   "metadata": {},
   "outputs": [],
   "source": [
    "var1 = ' '\n",
    "print(type(var1))\n",
    "\n",
    "var2 = '[DS,ML,Python]'\n",
    "print(type(var2))\n",
    "\n",
    "var3 = ['DS','ML','Python']\n",
    "print(type(var3))\n",
    "\n",
    "var4 = 1.\n",
    "print(type(var4))"
   ]
  },
  {
   "cell_type": "markdown",
   "id": "28e55171",
   "metadata": {},
   "source": [
    "Q3. Explain the use of the following operators using an example:\n",
    "\n",
    "(i) /\n",
    "(ii) %\n",
    "(iii) //\n",
    "(iv) **"
   ]
  },
  {
   "cell_type": "code",
   "execution_count": 3,
   "id": "f570e3f7",
   "metadata": {},
   "outputs": [
    {
     "name": "stdout",
     "output_type": "stream",
     "text": [
      "5.0\n",
      "0\n",
      "5\n",
      "100\n"
     ]
    }
   ],
   "source": [
    "a = 10\n",
    "b = 2\n",
    "\n",
    "# (1). The / operator is used for division and returns the quotient as a floating-point number. \n",
    "result = a / b\n",
    "print(result)\n",
    "\n",
    "# (2). The % operator is used for modulus division and returns the remainder after division.\n",
    "result = a % b\n",
    "print(result)\n",
    "\n",
    "# (3). The // operator is used for floor division and returns the quotient as an integer.\n",
    "result = a // b\n",
    "print(result)\n",
    "\n",
    "# (4). The ** operator is used for exponentiation and raises the left operand to the power of the right operand.\n",
    "result = a ** b\n",
    "print(result)"
   ]
  },
  {
   "cell_type": "markdown",
   "id": "284ec973",
   "metadata": {},
   "source": [
    "Q4. Create a list of length 10 of your choice containing multiple types of data. Using for loop print the element and its data type."
   ]
  },
  {
   "cell_type": "code",
   "execution_count": 1,
   "id": "60fca374",
   "metadata": {},
   "outputs": [
    {
     "name": "stdout",
     "output_type": "stream",
     "text": [
      "1 <class 'int'>\n",
      "2 <class 'int'>\n",
      "3 <class 'int'>\n",
      "4 <class 'int'>\n",
      "5 <class 'int'>\n",
      "6 <class 'int'>\n",
      "hello <class 'str'>\n",
      "(6+4j) <class 'complex'>\n",
      "64.5 <class 'float'>\n",
      "(7, 8, 9) <class 'tuple'>\n"
     ]
    }
   ],
   "source": [
    "l = [1,2,3,4,5,6,\"hello\",6+4j,64.5,(7,8,9)]\n",
    "len(l)\n",
    "\n",
    "for a in l:\n",
    "    print(a,type(a))"
   ]
  },
  {
   "cell_type": "markdown",
   "id": "79f4fce4",
   "metadata": {},
   "source": [
    "Q5. Using a while loop, verify if the number A is purely divisible by number B and if so then how many\n",
    "times it can be divisible."
   ]
  },
  {
   "cell_type": "code",
   "execution_count": 3,
   "id": "ee237db5",
   "metadata": {},
   "outputs": [
    {
     "name": "stdout",
     "output_type": "stream",
     "text": [
      "9.0\n",
      "The number A is divisible by B, and it can be divided 1 times.\n"
     ]
    }
   ],
   "source": [
    "A = 36  \n",
    "B = 4   \n",
    "\n",
    "count = 0  \n",
    "\n",
    "while A % B == 0:\n",
    "    A = A / B  \n",
    "    print(A)\n",
    "    count += 1  \n",
    "\n",
    "if count > 0:\n",
    "    print(f\"The number A is divisible by B, and it can be divided {count} times.\")\n",
    "else:\n",
    "    print(\"The number A is not divisible by B.\")\n",
    "\n",
    "    "
   ]
  },
  {
   "cell_type": "markdown",
   "id": "9fd7d8c4",
   "metadata": {},
   "source": [
    "Q6. Create a list containing 25 int type data. Using for loop and if-else condition print if the element is\n",
    "divisible by 3 or not."
   ]
  },
  {
   "cell_type": "code",
   "execution_count": 4,
   "id": "8ba1e8fc",
   "metadata": {},
   "outputs": [
    {
     "name": "stdout",
     "output_type": "stream",
     "text": [
      "no, the element is not divisible by 3\n",
      "no, the element is not divisible by 3\n",
      "no, the element is not divisible by 3\n",
      "yes, the element is divisible by 3\n",
      "yes, the element is divisible by 3\n",
      "no, the element is not divisible by 3\n",
      "no, the element is not divisible by 3\n",
      "yes, the element is divisible by 3\n",
      "no, the element is not divisible by 3\n",
      "no, the element is not divisible by 3\n",
      "yes, the element is divisible by 3\n",
      "no, the element is not divisible by 3\n",
      "no, the element is not divisible by 3\n",
      "no, the element is not divisible by 3\n",
      "yes, the element is divisible by 3\n",
      "no, the element is not divisible by 3\n",
      "no, the element is not divisible by 3\n",
      "yes, the element is divisible by 3\n",
      "no, the element is not divisible by 3\n",
      "no, the element is not divisible by 3\n",
      "yes, the element is divisible by 3\n",
      "yes, the element is divisible by 3\n",
      "yes, the element is divisible by 3\n",
      "no, the element is not divisible by 3\n",
      "yes, the element is divisible by 3\n"
     ]
    }
   ],
   "source": [
    "a = [2,5,10,15,18,20,25,30,34,40,45,50,55,58,60,65,70,72,77,80,84,87,93,97,102]\n",
    "\n",
    "for j in a :\n",
    "    if j % 3 == 0:\n",
    "        print(\"yes, the element is divisible by 3\")\n",
    "    else:\n",
    "        print(\"no, the element is not divisible by 3\")"
   ]
  },
  {
   "cell_type": "markdown",
   "id": "7eebe20d",
   "metadata": {},
   "source": [
    "Q7. What do you understand about mutable and immutable data types? Give examples for both showing\n",
    "this property."
   ]
  },
  {
   "cell_type": "markdown",
   "id": "533effd5",
   "metadata": {},
   "source": [
    "(1) Mutable data types are those that can be changed or modified after they are    created.\n",
    "This means you can add, remove, or update elements within the data type.\n",
    "Examples of mutable data types include: 1. lists, 2.dictionaries , 3.sets\n",
    "\n"
   ]
  },
  {
   "cell_type": "code",
   "execution_count": 13,
   "id": "93c2a653",
   "metadata": {},
   "outputs": [
    {
     "name": "stdout",
     "output_type": "stream",
     "text": [
      "[1, 200, 3, 4, 5]\n"
     ]
    },
    {
     "data": {
      "text/plain": [
       "{1, 2, 3, 4, 5, 6}"
      ]
     },
     "execution_count": 13,
     "metadata": {},
     "output_type": "execute_result"
    }
   ],
   "source": [
    "# LISTS\n",
    "\n",
    "my_list = [1,2,3,4,5]\n",
    "\n",
    "my_list[1]=200\n",
    "\n",
    "print(my_list)\n",
    "\n",
    "# DICTIONARY\n",
    "\n",
    "my_dict = {'name' : 'yash',\n",
    "          'Age' : 20}\n",
    "\n",
    "my_dict['name']='raj'\n",
    "\n",
    "my_dict\n",
    "\n",
    "# Sets\n",
    "\n",
    "my_set = {1,2,3,4,5}\n",
    "\n",
    "my_set.add(6)\n",
    "\n",
    "my_set"
   ]
  },
  {
   "cell_type": "markdown",
   "id": "f1a0a789",
   "metadata": {},
   "source": [
    "(2) Immutable data types, on the other hand, cannot be changed once they are created.\n",
    "If you want to modify an immutable data type, you need to create a new instance with the desired changes.\n",
    "Examples of immutable data types include: 1. Strings , 2. Tuple"
   ]
  },
  {
   "cell_type": "code",
   "execution_count": 19,
   "id": "629de320",
   "metadata": {},
   "outputs": [
    {
     "ename": "TypeError",
     "evalue": "'tuple' object does not support item assignment",
     "output_type": "error",
     "traceback": [
      "\u001b[1;31m---------------------------------------------------------------------------\u001b[0m",
      "\u001b[1;31mTypeError\u001b[0m                                 Traceback (most recent call last)",
      "\u001b[1;32m~\\AppData\\Local\\Temp/ipykernel_16424/3274635872.py\u001b[0m in \u001b[0;36m<module>\u001b[1;34m\u001b[0m\n\u001b[0;32m      5\u001b[0m \u001b[1;33m\u001b[0m\u001b[0m\n\u001b[0;32m      6\u001b[0m \u001b[0mb\u001b[0m \u001b[1;33m=\u001b[0m \u001b[1;33m(\u001b[0m\u001b[1;36m1\u001b[0m\u001b[1;33m,\u001b[0m\u001b[1;36m2\u001b[0m\u001b[1;33m,\u001b[0m\u001b[1;36m3\u001b[0m\u001b[1;33m,\u001b[0m\u001b[1;36m4\u001b[0m\u001b[1;33m,\u001b[0m\u001b[1;36m5\u001b[0m\u001b[1;33m)\u001b[0m\u001b[1;33m\u001b[0m\u001b[1;33m\u001b[0m\u001b[0m\n\u001b[1;32m----> 7\u001b[1;33m \u001b[0mb\u001b[0m\u001b[1;33m[\u001b[0m\u001b[1;36m0\u001b[0m\u001b[1;33m]\u001b[0m \u001b[1;33m=\u001b[0m \u001b[1;36m100\u001b[0m\u001b[1;33m\u001b[0m\u001b[1;33m\u001b[0m\u001b[0m\n\u001b[0m\u001b[0;32m      8\u001b[0m \u001b[0mprint\u001b[0m\u001b[1;33m(\u001b[0m\u001b[0mb\u001b[0m\u001b[1;33m)\u001b[0m\u001b[1;33m\u001b[0m\u001b[1;33m\u001b[0m\u001b[0m\n",
      "\u001b[1;31mTypeError\u001b[0m: 'tuple' object does not support item assignment"
     ]
    }
   ],
   "source": [
    "# STRINGS\n",
    "\n",
    "a = \"hello\"\n",
    "a[1] = j\n",
    "Print(a)\n",
    "\n",
    "\n",
    "# TUPLE\n",
    "\n",
    "b = (1,2,3,4,5)\n",
    "b[0] = 100\n",
    "print(b)"
   ]
  },
  {
   "cell_type": "code",
   "execution_count": null,
   "id": "afa43f2b",
   "metadata": {},
   "outputs": [],
   "source": []
  }
 ],
 "metadata": {
  "kernelspec": {
   "display_name": "Python 3 (ipykernel)",
   "language": "python",
   "name": "python3"
  },
  "language_info": {
   "codemirror_mode": {
    "name": "ipython",
    "version": 3
   },
   "file_extension": ".py",
   "mimetype": "text/x-python",
   "name": "python",
   "nbconvert_exporter": "python",
   "pygments_lexer": "ipython3",
   "version": "3.9.7"
  }
 },
 "nbformat": 4,
 "nbformat_minor": 5
}

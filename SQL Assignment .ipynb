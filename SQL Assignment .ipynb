{
 "cells": [
  {
   "cell_type": "markdown",
   "id": "3abc9f38-c5ba-44f0-8b9e-b6ed41bc9deb",
   "metadata": {},
   "source": [
    "# SQL ASSIGNMENT"
   ]
  },
  {
   "cell_type": "markdown",
   "id": "5c1c2e61-61f6-452a-90e8-613487f147ef",
   "metadata": {},
   "source": [
    "# Q1. What is a database? Differentiate between SQL and NoSQL databases."
   ]
  },
  {
   "cell_type": "markdown",
   "id": "440c5170-e900-4f55-876d-d3210db65f5d",
   "metadata": {},
   "source": [
    "Database is the Structured collection of information that is stored and organized in  a computer system. \n",
    "\n",
    "SQL and NoSQL are two different types of database management systems :-\n",
    "1 . SQL databases, also known as relational databases, are based on the relational model. They organize data into tables.\n",
    "Key features of SQL databases:\n",
    "\n",
    "Structure: Data is organized in tables with a predefined schema.\n",
    "Relationships: Relationships between tables are defined using primary and foreign keys.\n",
    "\n",
    "2.NoSQL Databases:\n",
    "NoSQL (Not Only SQL) databases are designed to handle unstructured and semi-structured data. \n",
    "Key features of NoSQL databases:\n",
    "\n",
    "Schema flexibility: NoSQL databases allow for dynamic and flexible schema design.\n",
    "Scalability: NoSQL databases excel in horizontal scaling (adding more servers to distribute the load).\n",
    "Performance: They optimize read and write operations for specific use cases."
   ]
  },
  {
   "cell_type": "markdown",
   "id": "2f6046c5-5414-4fe6-8c1a-5dd22b4cf32d",
   "metadata": {},
   "source": [
    "# Q2. What is DDL? Explain why CREATE, DROP, ALTER, and TRUNCATE are used with an example."
   ]
  },
  {
   "cell_type": "markdown",
   "id": "7698e98d-cf47-4270-9c50-32ddce649f30",
   "metadata": {},
   "source": [
    "DDL stands for Data Definition Language. It is a subset of SQL (Structured Query Language) used to define and manage the structure of a database and its objects. DDL commands are responsible for creating, modifying, and deleting database objects like tables, indexes, and views.\n",
    "\n",
    "CREATE:\n",
    "The CREATE command is used to create new database objects, such as tables, indexes, or views. Let's take an example of creating a table to store information about employees:"
   ]
  },
  {
   "cell_type": "code",
   "execution_count": 1,
   "id": "3bb29082-539f-4175-95ab-7cdf2d3a867f",
   "metadata": {},
   "outputs": [
    {
     "ename": "SyntaxError",
     "evalue": "invalid syntax (117461505.py, line 1)",
     "output_type": "error",
     "traceback": [
      "\u001b[0;36m  Cell \u001b[0;32mIn [1], line 1\u001b[0;36m\u001b[0m\n\u001b[0;31m    CREATE TABLE employees (\u001b[0m\n\u001b[0m           ^\u001b[0m\n\u001b[0;31mSyntaxError\u001b[0m\u001b[0;31m:\u001b[0m invalid syntax\n"
     ]
    }
   ],
   "source": [
    "CREATE TABLE employees (\n",
    "  employee_id INT PRIMARY KEY,\n",
    "  first_name VARCHAR(50),\n",
    "  last_name VARCHAR(50),\n",
    "  job_title VARCHAR(100),\n",
    "  hire_date DATE\n",
    ");"
   ]
  },
  {
   "cell_type": "markdown",
   "id": "79135d72-042f-4314-8000-f0904c3e4a34",
   "metadata": {},
   "source": [
    "DROP:\n",
    "The DROP command is used to remove database objects from the database. It permanently deletes the specified object and all the associated data. Let's see an example of dropping the \"employees\" table:"
   ]
  },
  {
   "cell_type": "code",
   "execution_count": 3,
   "id": "196d95eb-6650-4860-91a1-195677db311d",
   "metadata": {},
   "outputs": [
    {
     "ename": "SyntaxError",
     "evalue": "invalid syntax (3992300431.py, line 1)",
     "output_type": "error",
     "traceback": [
      "\u001b[0;36m  Cell \u001b[0;32mIn [3], line 1\u001b[0;36m\u001b[0m\n\u001b[0;31m    DROP TABLE employees;\u001b[0m\n\u001b[0m         ^\u001b[0m\n\u001b[0;31mSyntaxError\u001b[0m\u001b[0;31m:\u001b[0m invalid syntax\n"
     ]
    }
   ],
   "source": [
    "DROP TABLE employees;"
   ]
  },
  {
   "cell_type": "markdown",
   "id": "e1a0431e-3b62-4c16-a91c-06bc966a4c3f",
   "metadata": {},
   "source": [
    "ALTER:\n",
    "The ALTER command is used to modify the structure of an existing database object.\n",
    "For example, let's add a new column \"department\" to the \"employees\" table:"
   ]
  },
  {
   "cell_type": "code",
   "execution_count": null,
   "id": "f01cab32-0d12-4e0e-941b-16e0ec5ceabf",
   "metadata": {},
   "outputs": [],
   "source": [
    "ALTER TABLE employees\n",
    "ADD department VARCHAR(100);\n"
   ]
  },
  {
   "cell_type": "markdown",
   "id": "38b365ad-7e8c-43f1-8566-b0e4e54fb389",
   "metadata": {},
   "source": [
    "TRUNCATE:\n",
    "The TRUNCATE command is used to remove all data from a table, but it keeps the table structure intact.\n",
    "Let's truncate the \"employees\" table:"
   ]
  },
  {
   "cell_type": "code",
   "execution_count": null,
   "id": "a78719c2-363c-4310-8adf-b3c769984f40",
   "metadata": {},
   "outputs": [],
   "source": [
    "TRUNCATE TABLE employees;\n"
   ]
  },
  {
   "cell_type": "markdown",
   "id": "e556522e-35bd-46d1-92f9-0f4551a6c6b7",
   "metadata": {},
   "source": [
    "# Q3. What is DML? Explain INSERT, UPDATE, and DELETE with an example."
   ]
  },
  {
   "cell_type": "markdown",
   "id": "27b6ce5c-dbfe-4fa8-b2ec-c2a597bb2316",
   "metadata": {},
   "source": [
    "Data Manipulation Language (DML) commands in SQL manage data records stored within the database tables. It does not deal with changes to database objects and their structure. The commonly known DML commands are INSERT, UPDATE, and DELETE. We can consider even SELECT statements as a part of DML command"
   ]
  },
  {
   "cell_type": "markdown",
   "id": "574e2936-b018-4481-a3c7-7f619e7b3137",
   "metadata": {},
   "source": [
    "INSERT - Used to insert new data records or rows in the database table\n",
    "\n",
    "UPDATE - Used to set the value of a field or column for a particular record to a new value\n",
    "\n",
    "DELETE - Used to remove one or more rows from the database table"
   ]
  },
  {
   "cell_type": "code",
   "execution_count": 4,
   "id": "3d6e44cf-7933-4446-8973-cc3f9831c4d5",
   "metadata": {},
   "outputs": [],
   "source": [
    "## Insert Example\n",
    "\n",
    "INSERT INTO employees (employee_id, first_name, last_name, job_title, hire_date, department)\n",
    "VALUES (101, 'John', 'Doe', 'Software Engineer', '2023-07-19', 'Engineering');"
   ]
  },
  {
   "cell_type": "code",
   "execution_count": null,
   "id": "b08cf4cb-1eca-4a85-8d4e-efbccc35ec4e",
   "metadata": {},
   "outputs": [],
   "source": [
    "# Update Example\n",
    "\n",
    "UPDATE employees\n",
    "SET job_title = 'Senior Software Engineer'\n",
    "WHERE employee_id = 101;"
   ]
  },
  {
   "cell_type": "code",
   "execution_count": null,
   "id": "91601d15-ec6a-4340-b546-e3872fd1a3d0",
   "metadata": {},
   "outputs": [],
   "source": [
    "# Delete Example\n",
    "\n",
    "DELETE FROM employees\n",
    "WHERE employee_id = 101;\n"
   ]
  },
  {
   "cell_type": "markdown",
   "id": "ba293d20-178f-4009-b09d-f57c2350762e",
   "metadata": {},
   "source": [
    "# Q4. What is DQL? Explain SELECT with an example."
   ]
  },
  {
   "cell_type": "markdown",
   "id": "8d25e6eb-9684-4c8d-acb7-f6477c7b3bc5",
   "metadata": {},
   "source": [
    "DQL stands for Data Query Language. Data query language consists of only one command upon which data selection in SQL relies.\n",
    "\n",
    "The SELECT command is used to retrieve and fetch data from databases/tables based on certain conditions applied by the user."
   ]
  },
  {
   "cell_type": "markdown",
   "id": "f0f59968-b0d2-4b76-b540-412e309f0b6c",
   "metadata": {},
   "source": [
    "mployee_id\tfirst_name\tlast_name\tjob_title\t        hire_date\t department\n",
    "101\t        John\t    Doe\t        Software Engineer   2023-07-19   Engineering\n",
    "102         Jane\t    Smith\t    Data Analyst\t    2023-06-15   Analytics\n",
    "103\t        Michael\t    Johnson\t    Product Manager\t    2023-05-21\t poduct\n",
    " "
   ]
  },
  {
   "cell_type": "markdown",
   "id": "5bd7c081-1d9f-4810-85d4-f490f2a2a47b",
   "metadata": {},
   "source": [
    "--To retrieve specific data from this table, we can use the SELECT statement:\n",
    "    \n",
    "SELECT first_name, last_name, job_title\n",
    "FROM employees;\n"
   ]
  },
  {
   "cell_type": "code",
   "execution_count": null,
   "id": "cfd82547-792f-4d04-b085-69943a27c513",
   "metadata": {},
   "outputs": [],
   "source": [
    "Output:-\n",
    "\n",
    "first_name\tlast_name\tjob_title\n",
    "John\t    Doe\t        Software Engineer\n",
    "Jane\t    Smith\t    Data Analyst\n",
    "Michael\t    Johnson\t    Product Manager"
   ]
  },
  {
   "cell_type": "markdown",
   "id": "c0914a9b-e2c8-4a05-8610-15a9b6d7d9fc",
   "metadata": {},
   "source": [
    "# Q5. Explain Primary Key and Foreign Key."
   ]
  },
  {
   "cell_type": "markdown",
   "id": "6fd01e4b-3812-460a-b203-7a83bea682f0",
   "metadata": {},
   "source": [
    "--PRIMARY KEY\n",
    "\n",
    "A primary key is used to ensure that data in the specific column is unique. A column cannot have NULL values. It is either an existing table column or a column that is specifically generated by the database according to a defined sequence. \n",
    "\n",
    "Example: STUD_NO, as well as STUD_PHONE both, are candidate keys for relation STUDENT but STUD_NO can be chosen as the primary key\n",
    "\n",
    "--FOREIGN KEY\n",
    "\n",
    "A foreign key is a column or group of columns in a relational database table that provides a link between data in two tables. It is a column (or columns) that references a column (most often the primary key) of another table. \n",
    "\n"
   ]
  },
  {
   "cell_type": "markdown",
   "id": "374df1f4-151e-47a6-8c4e-7f59156cbea3",
   "metadata": {},
   "source": [
    "# Q6. Write a python code to connect MySQL to python. Explain the cursor() and execute() method."
   ]
  },
  {
   "cell_type": "code",
   "execution_count": 3,
   "id": "b615eb91-5340-4058-b830-e64664eafcd6",
   "metadata": {},
   "outputs": [
    {
     "name": "stdout",
     "output_type": "stream",
     "text": [
      "Collecting mysql-connector-python\n",
      "  Downloading mysql_connector_python-8.1.0-cp310-cp310-manylinux_2_17_x86_64.whl (27.5 MB)\n",
      "\u001b[2K     \u001b[90m━━━━━━━━━━━━━━━━━━━━━━━━━━━━━━━━━━━━━━━━\u001b[0m \u001b[32m27.5/27.5 MB\u001b[0m \u001b[31m49.5 MB/s\u001b[0m eta \u001b[36m0:00:00\u001b[0m00:01\u001b[0m00:01\u001b[0m\n",
      "\u001b[?25hRequirement already satisfied: protobuf<=4.21.12,>=4.21.1 in /opt/conda/lib/python3.10/site-packages (from mysql-connector-python) (4.21.8)\n",
      "Installing collected packages: mysql-connector-python\n",
      "Successfully installed mysql-connector-python-8.1.0\n",
      "Note: you may need to restart the kernel to use updated packages.\n"
     ]
    }
   ],
   "source": [
    "pip install mysql-connector-python"
   ]
  },
  {
   "cell_type": "code",
   "execution_count": null,
   "id": "de537b96-6e11-4f08-8e38-f303559c9571",
   "metadata": {},
   "outputs": [],
   "source": [
    "import mysql.connector\n",
    "# import mysql.connector\n",
    "#create user 'user'@'%' identified by 'password'\n",
    "mydb = mysql.connector.connect(\n",
    "  host=\"localhost\",\n",
    "  user=\"abc\",\n",
    "  password=\"password\"\n",
    ")\n",
    "print(mydb)"
   ]
  },
  {
   "cell_type": "markdown",
   "id": "fe8d4c17-bdca-4902-8acf-1a4882bb6b2d",
   "metadata": {},
   "source": [
    "1.'Cursor()' method:\n",
    "-The Cursor() method is used to create a cursor object from a database connection. A cursor is a pointer or an iterator that allows you to interact    with the database and retrieve or manipulate data. \n",
    "\n",
    "2.'Execute()' method:\n",
    "The Execute() method, as the name suggests, is used to execute SQL queries or commands through the cursor object. You can use it to perform various operations like creating tables, inserting data, updating records, deleting data, and querying information from the database."
   ]
  },
  {
   "cell_type": "markdown",
   "id": "f5fcd58c-91f9-441a-b7b7-9ca2c27ba8f6",
   "metadata": {},
   "source": [
    "# Q7. Give the order of execution of SQL clauses in an SQL query."
   ]
  },
  {
   "cell_type": "markdown",
   "id": "16014315-94b9-4ba8-91d2-14f55e5ab66c",
   "metadata": {},
   "source": [
    "1\tFROM\t    Tables are joined to get the base data.\n",
    "\n",
    "2\tWHERE\t    The base data is filtered.\n",
    "\n",
    "3\tGROUP BY\tThe filtered base data is grouped.\n",
    "\n",
    "4\tHAVING\t    The grouped base data is filtered.\n",
    "\n",
    "5\tSELECT\t    The final data is returned.\n",
    "\n",
    "6\tORDER BY\tThe final data is sorted.\n",
    "\n",
    "7\tLIMIT\t    The returned data is limited to row count.\n",
    "\n"
   ]
  },
  {
   "cell_type": "code",
   "execution_count": null,
   "id": "5e365a25-1475-43ee-86e8-d9af9af02776",
   "metadata": {},
   "outputs": [],
   "source": []
  }
 ],
 "metadata": {
  "kernelspec": {
   "display_name": "Python 3 (ipykernel)",
   "language": "python",
   "name": "python3"
  },
  "language_info": {
   "codemirror_mode": {
    "name": "ipython",
    "version": 3
   },
   "file_extension": ".py",
   "mimetype": "text/x-python",
   "name": "python",
   "nbconvert_exporter": "python",
   "pygments_lexer": "ipython3",
   "version": "3.10.6"
  }
 },
 "nbformat": 4,
 "nbformat_minor": 5
}

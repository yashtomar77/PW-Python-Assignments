{
 "cells": [
  {
   "cell_type": "markdown",
   "id": "706f0de8-acfc-4e8e-b55e-09512ac777bb",
   "metadata": {},
   "source": [
    "# MULTITHREADING ASSIGNMNENT"
   ]
  },
  {
   "cell_type": "markdown",
   "id": "2ec78a52-7853-4011-9847-1be164cd11a7",
   "metadata": {},
   "source": [
    "# Q1. What is multithreading in python? why is it used? Name the module used to handle threads in python"
   ]
  },
  {
   "cell_type": "markdown",
   "id": "68ad95f5-9551-4fa9-b135-69f180f2a082",
   "metadata": {},
   "source": [
    "Multithreading in Python refers to the concurrent execution of multiple threads within a single process. It allows different parts of a program to run concurrently, taking advantage of available CPU cores and improving performance.\n",
    "\n",
    "The module used to handle threads in Python is called threading. The threading module provides a high-level interface for creating, controlling, and synchronizing threads."
   ]
  },
  {
   "cell_type": "markdown",
   "id": "12a020f6-4abe-4cbb-a2ec-af528e565349",
   "metadata": {},
   "source": [
    "# Q2.Why threading module used? write the use of the following functions\n",
    "# activeCount()\n",
    "# currentThread()\n",
    "# enumerate()"
   ]
  },
  {
   "cell_type": "markdown",
   "id": "852cd620-3b6c-46b2-b543-a28e4ced6269",
   "metadata": {},
   "source": [
    "The threading module in Python provides a way to work with threads and manage concurrent execution. It offers various functions and classes to create and control threads. Here are the uses of the functions you mentioned:\n",
    "\n",
    "1. 'activecount()': The activecount() function is used to obtain the current number of Thread objects that are alive (i.e., actively running) and managed by the threading module. It returns an integer representing the count of active threads.\n",
    "\n",
    "2. 'current_thread()' The current_thread() function returns the Thread object representing the current thread of execution. It allows you to access and manipulate the properties and methods of the current thread. You can use this function to obtain information about the current thread, such as its name, identification number, or to check its status.\n",
    "\n",
    "3. 'enumerate()': The enumerate() function returns a list of all Thread objects currently alive and managed by the threading module. It provides a convenient way to iterate over all active threads and access their properties. The function returns a list of Thread objects, allowing you to perform operations on individual threads or gather information about the state of the threads."
   ]
  },
  {
   "cell_type": "markdown",
   "id": "48dc2bbc-4007-48d8-8a65-293cee876b24",
   "metadata": {},
   "source": [
    "# 3. Explain the following functions\n",
    "# run()\n",
    "# start()\n",
    "# join()\n",
    "# isAlive()"
   ]
  },
  {
   "cell_type": "markdown",
   "id": "221aec1b-4ada-48af-927f-66fbe45b1790",
   "metadata": {},
   "source": [
    "1. 'run()': The 'run()' function is not directly called by the user. Instead, it is the entry point for the code that will be executed when a thread is started. You can subclass the Thread class from the threading module and override the run() method to define the actions that the thread should perform. When a thread is started using the start() method, it internally calls the run() method to execute the code in a separate thread.\n",
    "\n",
    "2. 'start()': The 'start()' method is used to start the execution of a thread. It creates a new thread of execution and calls the run() method of the Thread object. \n",
    "\n",
    "3. 'join()': The 'join()' method is used to synchronize the execution of multiple threads. When a thread calls the join() method on another thread, it waits until that thread completes its execution before proceeding further. It allows for coordination and ensures that the main thread or other threads do not continue until the joined thread has finished\n",
    "\n",
    "4. 'isAlive()': The 'isAlive()' method is used to check whether a thread is currently running or not. It returns a boolean value indicating the thread's status. If the thread is active and running, isAlive() returns True; otherwise, it returns False."
   ]
  },
  {
   "cell_type": "markdown",
   "id": "0e1538ea-89bf-4795-9dd2-1fdb63ed587b",
   "metadata": {},
   "source": [
    "# 4. Write a python program to create two threads. Thread one must print the list of squares and thread two must print the list of cubes"
   ]
  },
  {
   "cell_type": "code",
   "execution_count": 1,
   "id": "ab3df5e4-adbe-4590-b9ef-477e896d8989",
   "metadata": {},
   "outputs": [
    {
     "name": "stdout",
     "output_type": "stream",
     "text": [
      "The square of 1 is 1\n",
      "The square of 2 is 4\n",
      "The square of 3 is 9\n",
      "The square of 4 is 16\n",
      "The square of 5 is 25\n",
      "The square of 6 is 36\n",
      "The square of 7 is 49\n",
      "The square of 8 is 64\n",
      "The square of 9 is 81\n",
      "The square of 10 is 100\n"
     ]
    }
   ],
   "source": [
    "import threading\n",
    "\n",
    "def sqrt():\n",
    "    for i in range(1,11):\n",
    "        print(\"The square of\" ,i , \"is\" ,i**2)\n",
    "\n",
    "thread1 = threading.Thread(target = sqrt)\n",
    "\n",
    "thread1.start()"
   ]
  },
  {
   "cell_type": "code",
   "execution_count": 2,
   "id": "86c2ec1e-3304-40a7-b8fa-67e0a534d488",
   "metadata": {},
   "outputs": [
    {
     "name": "stdout",
     "output_type": "stream",
     "text": [
      "The cube of  1 is 1\n",
      "The cube of  2 is 8\n",
      "The cube of  3 is 27\n",
      "The cube of  4 is 64\n",
      "The cube of  5 is 125\n",
      "The cube of  6 is 216\n",
      "The cube of  7 is 343\n",
      "The cube of  8 is 512\n",
      "The cube of  9 is 729\n",
      "The cube of  10 is 1000\n"
     ]
    }
   ],
   "source": [
    "def cubes():\n",
    "    for i in range(1,11):\n",
    "        print(\"The cube of \", i, \"is\" , i**3)\n",
    "                        \n",
    "thread2 = threading.Thread(target = cubes)\n",
    "\n",
    "thread2.start()"
   ]
  },
  {
   "cell_type": "code",
   "execution_count": null,
   "id": "df892c38-c811-4f79-b303-4008c1092134",
   "metadata": {},
   "outputs": [],
   "source": []
  },
  {
   "cell_type": "markdown",
   "id": "e22ac743-5a59-485f-abc8-f2370318634f",
   "metadata": {},
   "source": [
    "# 5. State advantages and disadvantages of multithreading"
   ]
  },
  {
   "cell_type": "markdown",
   "id": "d9dacb1e-c10d-4fae-9ac1-976910e2ebdd",
   "metadata": {},
   "source": [
    "--Advantages of Multithreading:\n",
    "\n",
    "-Improved performance and responsiveness.\n",
    "-Efficient resource sharing and data communication.\n",
    "-Enables parallelism and concurrency.\n",
    "-Simplifies certain application designs.\n",
    "\n",
    "--Disadvantages of Multithreading:\n",
    "\n",
    "-Complexity challenges.\n",
    "-Increased overhead and resource consumption.\n",
    "-Limited scalability in certain scenarios.\n",
    "-Platform-dependent and less portable."
   ]
  },
  {
   "cell_type": "markdown",
   "id": "91ab3331-2222-4d59-a3d6-1edabd945ad0",
   "metadata": {},
   "source": [
    "# 6. Explain deadlocks and race conditions."
   ]
  },
  {
   "cell_type": "markdown",
   "id": "911a40d1-95c6-47df-9638-a6edfd03e964",
   "metadata": {},
   "source": [
    "DEADLOCKS \n",
    "\n",
    ":Deadlock refers to a situation where two or more threads are waiting for each other to release resources or complete their tasks, resulting in a standstill or a state of perpetual waiting.\n",
    "\n",
    ":-Deadlocks typically occur when multiple threads acquire resources in a way that creates a circular dependency.\n",
    "\n",
    "RACE\n",
    "\n",
    ":-A race condition occurs when the behavior of a program depends on the relative ordering of execution of concurrent threads and the outcome becomes non-deterministic or incorrect.\n",
    "\n",
    ":-Race conditions arise when multiple threads access shared resources or variables concurrently without proper synchronization, and the final result depends on the relative timing and interleaving of their operations."
   ]
  },
  {
   "cell_type": "code",
   "execution_count": null,
   "id": "0ddd19dd-8b44-48db-bd3e-81b06bd754f1",
   "metadata": {},
   "outputs": [],
   "source": []
  }
 ],
 "metadata": {
  "kernelspec": {
   "display_name": "Python 3 (ipykernel)",
   "language": "python",
   "name": "python3"
  },
  "language_info": {
   "codemirror_mode": {
    "name": "ipython",
    "version": 3
   },
   "file_extension": ".py",
   "mimetype": "text/x-python",
   "name": "python",
   "nbconvert_exporter": "python",
   "pygments_lexer": "ipython3",
   "version": "3.10.6"
  }
 },
 "nbformat": 4,
 "nbformat_minor": 5
}

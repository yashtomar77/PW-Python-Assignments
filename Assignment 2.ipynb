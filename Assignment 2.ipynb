{
 "cells": [
  {
   "cell_type": "markdown",
   "id": "952efe9d",
   "metadata": {},
   "source": [
    "# ASSIGNMENT 2"
   ]
  },
  {
   "cell_type": "markdown",
   "id": "38dcd055",
   "metadata": {},
   "source": [
    "Q1. How do you comment code in Python? What are the different types of comments?"
   ]
  },
  {
   "cell_type": "raw",
   "id": "71011036",
   "metadata": {},
   "source": [
    "We use hashtag to comment a code in python to make it more redeable.\n",
    "\n",
    "There are two types of commernts in python.\n",
    "\n",
    "1. Single line comment - To add a comment that spans a one line code we use hasthatag\n",
    "\n",
    "2. Multiline comment - To add a comment that spans a multiline code we use\n",
    " triple quotes (''' code '''} to enclose the comment text."
   ]
  },
  {
   "cell_type": "markdown",
   "id": "778663f6",
   "metadata": {},
   "source": [
    "Q2. What are variables in Python? How do you declare and assign values to variables?"
   ]
  },
  {
   "cell_type": "raw",
   "id": "d003822c",
   "metadata": {},
   "source": [
    "In python, variables are used to store data or values that can be refer by a name.we use variables as containers for storing different types of information such as integers , string , complex number , and other data types.\n",
    "\n",
    "To declare a variable in python we simply choose a name that starts with charcater value and use the assignmnet operator (=) to assign a value to it.\n",
    "\n",
    "for ex :- \n",
    "\n",
    "Name = \"Mahi\"\n",
    "Age = 41"
   ]
  },
  {
   "cell_type": "markdown",
   "id": "ef6f1918",
   "metadata": {},
   "source": [
    "Q3. How do you convert one data type to another in Python?"
   ]
  },
  {
   "cell_type": "raw",
   "id": "e2c60dcd",
   "metadata": {},
   "source": [
    "In python , we can convert one data data type to another using type conversion\n",
    "python provides built in functions to perform type conversion\n",
    "\n",
    "here are some commonly used functions for type conversion:\n",
    "\n",
    "1. int() : To convert any data type to integer\n",
    "2. float() : To convert any data type into floating value\n",
    "3. str() : To convert any data type into string type.\n",
    "4. list() : To convert any data type to"
   ]
  },
  {
   "cell_type": "markdown",
   "id": "e64a404f",
   "metadata": {},
   "source": [
    "Q5. Given a list my_list = [1, 2, 3, 4, 5], write the code to slice the list and obtain the sub-list [2, 3]."
   ]
  },
  {
   "cell_type": "code",
   "execution_count": 3,
   "id": "ee243c81",
   "metadata": {},
   "outputs": [
    {
     "name": "stdout",
     "output_type": "stream",
     "text": [
      "[2, 3]\n"
     ]
    }
   ],
   "source": [
    "# CODE\n",
    "\n",
    "my_list = [1,2,3,4,5]\n",
    "\n",
    "sub_list = my_list[1:3]\n",
    "\n",
    "print(sub_list)"
   ]
  },
  {
   "cell_type": "markdown",
   "id": "3704ffe9",
   "metadata": {},
   "source": [
    "Q6. What is a complex number in mathematics, and how is it represented in Python?"
   ]
  },
  {
   "cell_type": "raw",
   "id": "840f7f8b",
   "metadata": {},
   "source": [
    "A complex number refers to that number in mathematics that consists of a real part and an imaginary part. It is represented in the form of \"a+bi\", where\"a\" represents the real part,\"b\" represents the imaginary part,and \"i\" is the imaginary unit.\n",
    "\n",
    "....And in python complex numbers are reprsented using the 'complex' data type.To create a complex number , you can use the 'complex()' function.\n",
    "\n",
    "# Creating a complex number using complex()\n",
    "\n",
    "z = complex(3, 4)\n",
    "print(z)  # Output: (3+4j)"
   ]
  },
  {
   "cell_type": "markdown",
   "id": "f077602f",
   "metadata": {},
   "source": [
    "Q7. What is the correct way to declare a variable named age and assign the value 25 to it?"
   ]
  },
  {
   "cell_type": "raw",
   "id": "2ad81026",
   "metadata": {},
   "source": [
    "The correct way to declare a variable named age and assign the value \n",
    "'25' can be done by using assignmnet operator ,the code is given below:-\n",
    "    \n",
    "Age = 25"
   ]
  },
  {
   "cell_type": "markdown",
   "id": "19d15af1",
   "metadata": {},
   "source": [
    "Q8. Declare a variable named price and assign the value 9.99 to it. What data type does this variable\n",
    "belong to?"
   ]
  },
  {
   "cell_type": "code",
   "execution_count": 6,
   "id": "38c3c7cf",
   "metadata": {},
   "outputs": [
    {
     "name": "stdout",
     "output_type": "stream",
     "text": [
      "<class 'float'>\n"
     ]
    }
   ],
   "source": [
    "# CODE\n",
    "\n",
    "Price = 9.99\n",
    "\n",
    "print(type(Price))"
   ]
  },
  {
   "cell_type": "markdown",
   "id": "e18ccae3",
   "metadata": {},
   "source": [
    "Q9. Create a variable named name and assign your full name to it as a string. How would you print the\n",
    "value of this variable?"
   ]
  },
  {
   "cell_type": "code",
   "execution_count": 7,
   "id": "d3949438",
   "metadata": {},
   "outputs": [
    {
     "name": "stdout",
     "output_type": "stream",
     "text": [
      "Yash singh tomar\n"
     ]
    }
   ],
   "source": [
    "# CODE\n",
    "\n",
    "name = \"Yash singh tomar\"\n",
    "\n",
    "print(name)"
   ]
  },
  {
   "cell_type": "markdown",
   "id": "d1b8bf89",
   "metadata": {},
   "source": [
    "Q10. Given the string \"Hello, World!\", extract the substring \"World\"."
   ]
  },
  {
   "cell_type": "code",
   "execution_count": 18,
   "id": "d2268906",
   "metadata": {},
   "outputs": [
    {
     "name": "stdout",
     "output_type": "stream",
     "text": [
      "World\n"
     ]
    }
   ],
   "source": [
    "# CODE\n",
    "\n",
    "string = \"Hello, World!\"\n",
    "\n",
    "sub_string = string[7:12]\n",
    "\n",
    "print(sub_string)"
   ]
  },
  {
   "cell_type": "markdown",
   "id": "8485c2b7",
   "metadata": {},
   "source": [
    "Q11. Create a variable named \"is_student\" and assign it a boolean value indicating whether you are\n",
    "currently a student or not."
   ]
  },
  {
   "cell_type": "code",
   "execution_count": 19,
   "id": "db779b8a",
   "metadata": {},
   "outputs": [
    {
     "name": "stdout",
     "output_type": "stream",
     "text": [
      "True\n"
     ]
    }
   ],
   "source": [
    "# CODE\n",
    "\n",
    "is_student = True\n",
    "\n",
    "print(is_student)"
   ]
  },
  {
   "cell_type": "code",
   "execution_count": null,
   "id": "7dd82ded",
   "metadata": {},
   "outputs": [],
   "source": []
  }
 ],
 "metadata": {
  "kernelspec": {
   "display_name": "Python 3 (ipykernel)",
   "language": "python",
   "name": "python3"
  },
  "language_info": {
   "codemirror_mode": {
    "name": "ipython",
    "version": 3
   },
   "file_extension": ".py",
   "mimetype": "text/x-python",
   "name": "python",
   "nbconvert_exporter": "python",
   "pygments_lexer": "ipython3",
   "version": "3.9.7"
  }
 },
 "nbformat": 4,
 "nbformat_minor": 5
}

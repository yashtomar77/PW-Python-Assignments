{
 "cells": [
  {
   "cell_type": "markdown",
   "id": "89ddd019",
   "metadata": {},
   "source": [
    "# ASSIGNMENT 3\n"
   ]
  },
  {
   "cell_type": "markdown",
   "id": "5af70e2c",
   "metadata": {},
   "source": [
    " Q1. Which keyword is used to create a function? Create a function to return a list of odd numbers in therange of 1 to 25."
   ]
  },
  {
   "cell_type": "markdown",
   "id": "be76a34e",
   "metadata": {},
   "source": [
    "In Python we use (def) keyword to create a function.\n",
    "\n"
   ]
  },
  {
   "cell_type": "code",
   "execution_count": 32,
   "id": "a49099a1",
   "metadata": {},
   "outputs": [],
   "source": [
    "def odd_num():\n",
    "    odd_nums = []\n",
    "    for num in range(1,25):\n",
    "        if num % 2 != 0:\n",
    "            odd_nums.append(num)\n",
    "    return odd_nums"
   ]
  },
  {
   "cell_type": "code",
   "execution_count": 33,
   "id": "899fecbd",
   "metadata": {},
   "outputs": [
    {
     "data": {
      "text/plain": [
       "[1, 3, 5, 7, 9, 11, 13, 15, 17, 19, 21, 23]"
      ]
     },
     "execution_count": 33,
     "metadata": {},
     "output_type": "execute_result"
    }
   ],
   "source": [
    "odd_num()"
   ]
  },
  {
   "cell_type": "markdown",
   "id": "631facd6",
   "metadata": {},
   "source": [
    "Q2. Why *args and **kwargs is used in some functions? Create a function each for *args and **kwargs\n",
    "to demonstrate their use."
   ]
  },
  {
   "cell_type": "markdown",
   "id": "6e354a4a",
   "metadata": {},
   "source": [
    "'*args' allows you to paas number of arguemnets as a variable.\n",
    "the'*args' parameter collects these arguements into a tuple."
   ]
  },
  {
   "cell_type": "code",
   "execution_count": 8,
   "id": "20e72cc5",
   "metadata": {},
   "outputs": [],
   "source": [
    "def test_1(*args):\n",
    "    return args"
   ]
  },
  {
   "cell_type": "code",
   "execution_count": 9,
   "id": "d26a44ef",
   "metadata": {},
   "outputs": [
    {
     "data": {
      "text/plain": [
       "(1, 2, 3, 'yash', 3.6j)"
      ]
     },
     "execution_count": 9,
     "metadata": {},
     "output_type": "execute_result"
    }
   ],
   "source": [
    "test_1(1,2,3,\"yash\",3.6j)"
   ]
  },
  {
   "cell_type": "markdown",
   "id": "0078b352",
   "metadata": {},
   "source": [
    "'**Kwargs' allows you to pass n number of arguemnets.The '**Kwargs parameter collects these arguemnets into a dictionary where the keys are the argument names and the values are the corresponding values. "
   ]
  },
  {
   "cell_type": "code",
   "execution_count": 1,
   "id": "34646be1",
   "metadata": {},
   "outputs": [],
   "source": [
    "def test_2(**kwargs):\n",
    "    return kwargs"
   ]
  },
  {
   "cell_type": "code",
   "execution_count": 6,
   "id": "d5ea6469",
   "metadata": {},
   "outputs": [
    {
     "data": {
      "text/plain": [
       "['a', 'b']"
      ]
     },
     "execution_count": 6,
     "metadata": {},
     "output_type": "execute_result"
    }
   ],
   "source": [
    "list(test_2(a = {1,2,3,4} , b = 'yash' ))"
   ]
  },
  {
   "cell_type": "markdown",
   "id": "c65d3768",
   "metadata": {},
   "source": [
    "Q3. What is an iterator in python? Name the method used to initialise the iterator object and the method\n",
    "used for iteration. Use these methods to print the first five elements of the given list [2, 4, 6, 8, 10, 12, 14,\n",
    "16, 18, 20]."
   ]
  },
  {
   "cell_type": "markdown",
   "id": "40b633e5",
   "metadata": {},
   "source": [
    "In python,iterators are used to iterarte over a collection of elements, one at a time, without need to know the specific details of the specific collection.\n",
    "\n",
    "it consists of two methods 'iter()' and 'next()'.\n",
    "\n",
    "The 'iter()' method is used to initialize an iterator object. it is used to convert iterable objects into iterators , and the 'next()' method is uesd for iteration. It returns the next element from the iterator."
   ]
  },
  {
   "cell_type": "code",
   "execution_count": 16,
   "id": "98ab32e9",
   "metadata": {},
   "outputs": [
    {
     "name": "stdout",
     "output_type": "stream",
     "text": [
      "2\n",
      "4\n",
      "6\n",
      "8\n",
      "10\n"
     ]
    }
   ],
   "source": [
    "l = [2, 4, 6, 8, 10, 12, 14, 16, 18, 20]\n",
    "\n",
    "l1 = iter(l)\n",
    "\n",
    "for a in range(5):\n",
    "    element = next(l1)\n",
    "    print(element)"
   ]
  },
  {
   "cell_type": "markdown",
   "id": "4814d940",
   "metadata": {},
   "source": [
    "Q4. What is a generator function in python? Why yield keyword is used? Give an example of a generator\n",
    "function."
   ]
  },
  {
   "cell_type": "markdown",
   "id": "87d8e1fe",
   "metadata": {},
   "source": [
    "In Python, a 'generator function' is a function that generates a sequence of values instead of returning a single value. \n",
    "\n",
    "The 'yield' keyword is used in generator functions to define points at which the function should yield a value. When the generator function encounters a yield statement, it temporarily pauses its execution and returns the yielded value. "
   ]
  },
  {
   "cell_type": "code",
   "execution_count": 9,
   "id": "5ba6980d",
   "metadata": {},
   "outputs": [
    {
     "name": "stdout",
     "output_type": "stream",
     "text": [
      "0\n",
      "1\n",
      "1\n",
      "2\n",
      "3\n",
      "5\n",
      "8\n",
      "13\n",
      "21\n",
      "34\n"
     ]
    }
   ],
   "source": [
    "def test_fib(n):\n",
    "    a,b = 0,1\n",
    "    for i in range(n):\n",
    "        yield a\n",
    "        a,b = b,a+b\n",
    "        \n",
    "test_fib(10)\n",
    "\n",
    "fib = test_fib(10)\n",
    "\n",
    "for i in fib:\n",
    "    print(i)\n",
    "    "
   ]
  },
  {
   "cell_type": "markdown",
   "id": "4f2a1b72",
   "metadata": {},
   "source": [
    "Q5. Create a generator function for prime numbers less than 1000. Use the next() method to print the\n",
    "first 20 prime numbers."
   ]
  },
  {
   "cell_type": "code",
   "execution_count": 20,
   "id": "1dfc5c57",
   "metadata": {},
   "outputs": [
    {
     "name": "stdout",
     "output_type": "stream",
     "text": [
      "2\n",
      "3\n",
      "5\n",
      "7\n",
      "11\n",
      "13\n",
      "17\n",
      "19\n",
      "23\n",
      "29\n",
      "31\n",
      "37\n",
      "41\n",
      "43\n",
      "47\n",
      "53\n",
      "59\n",
      "61\n",
      "67\n",
      "71\n"
     ]
    }
   ],
   "source": [
    "def prime_generator():\n",
    "    primes = []\n",
    "    num = 2\n",
    "    while len(primes) < 20:\n",
    "        is_prime = True\n",
    "        for prime in primes:\n",
    "            if num % prime == 0:\n",
    "                is_prime = False\n",
    "                break\n",
    "        if is_prime:\n",
    "            primes.append(num)\n",
    "            yield num\n",
    "        num += 1\n",
    "\n",
    "\n",
    "primes = prime_generator()\n",
    "\n",
    "\n",
    "for _ in range(20):\n",
    "    prime_num = next(primes)\n",
    "    print(prime_num)\n"
   ]
  },
  {
   "cell_type": "markdown",
   "id": "15906f9b",
   "metadata": {},
   "source": [
    "Q6. Write a python program to print the first 10 Fibonacci numbers using a while loop."
   ]
  },
  {
   "cell_type": "code",
   "execution_count": 2,
   "id": "28a5955a",
   "metadata": {},
   "outputs": [
    {
     "name": "stdout",
     "output_type": "stream",
     "text": [
      "0\n",
      "1\n",
      "1\n",
      "2\n",
      "3\n",
      "5\n",
      "8\n",
      "13\n",
      "21\n",
      "34\n"
     ]
    }
   ],
   "source": [
    "def test_fib(n):\n",
    "    a,b = 0,1\n",
    "    for i in range(n):\n",
    "        yield a\n",
    "        a,b = b,a+b\n",
    "        \n",
    "test_fib(10)\n",
    "\n",
    "fib = test_fib(10)\n",
    "\n",
    "for i in fib:\n",
    "    print(i)\n",
    "    "
   ]
  },
  {
   "cell_type": "markdown",
   "id": "cc9e18c2",
   "metadata": {},
   "source": [
    "Q7. Write a List Comprehension to iterate through the given string: ‘pwskills’.\n",
    "Expected output: ['p', 'w', 's', 'k', 'i', 'l', 'l', 's']\n",
    "Q8. Write a python program to check whether a given"
   ]
  },
  {
   "cell_type": "code",
   "execution_count": 20,
   "id": "9b28d5af",
   "metadata": {},
   "outputs": [
    {
     "name": "stdout",
     "output_type": "stream",
     "text": [
      "['p', 'w', 's', 'k', 'i', 'l', 'l', 's']\n"
     ]
    }
   ],
   "source": [
    "a = \"pwskills\"\n",
    "\n",
    "result = [i for i in a]\n",
    "\n",
    "print(result)"
   ]
  },
  {
   "cell_type": "markdown",
   "id": "12bfd359",
   "metadata": {},
   "source": [
    "Q9. Write a code to print odd numbers from 1 to 100 using list comprehension.\n"
   ]
  },
  {
   "cell_type": "code",
   "execution_count": 30,
   "id": "dc0333d3",
   "metadata": {},
   "outputs": [
    {
     "name": "stdout",
     "output_type": "stream",
     "text": [
      "[1, 3, 5, 7, 9, 11, 13, 15, 17, 19, 21, 23, 25, 27, 29, 31, 33, 35, 37, 39, 41, 43, 45, 47, 49, 51, 53, 55, 57, 59, 61, 63, 65, 67, 69, 71, 73, 75, 77, 79, 81, 83, 85, 87, 89, 91, 93, 95, 97, 99]\n"
     ]
    }
   ],
   "source": [
    "a  =[i for i in range(1,101) if i%2 != 0]\n",
    "print(a)"
   ]
  },
  {
   "cell_type": "code",
   "execution_count": null,
   "id": "1b687b19",
   "metadata": {},
   "outputs": [],
   "source": []
  },
  {
   "cell_type": "code",
   "execution_count": null,
   "id": "0289da69",
   "metadata": {},
   "outputs": [],
   "source": []
  }
 ],
 "metadata": {
  "kernelspec": {
   "display_name": "Python 3 (ipykernel)",
   "language": "python",
   "name": "python3"
  },
  "language_info": {
   "codemirror_mode": {
    "name": "ipython",
    "version": 3
   },
   "file_extension": ".py",
   "mimetype": "text/x-python",
   "name": "python",
   "nbconvert_exporter": "python",
   "pygments_lexer": "ipython3",
   "version": "3.9.7"
  }
 },
 "nbformat": 4,
 "nbformat_minor": 5
}

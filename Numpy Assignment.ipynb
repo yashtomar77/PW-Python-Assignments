{
 "cells": [
  {
   "cell_type": "markdown",
   "id": "a6f7510f-9a90-4fd5-b9ed-4b907afae433",
   "metadata": {},
   "source": [
    "# NUMPY ASSIGNMENT"
   ]
  },
  {
   "cell_type": "code",
   "execution_count": 1,
   "id": "a25df1a0-8818-4383-9e95-38718b8e1acd",
   "metadata": {},
   "outputs": [
    {
     "data": {
      "text/plain": [
       "array(['1', '2', '3', '4', '5'], dtype='<U1')"
      ]
     },
     "execution_count": 1,
     "metadata": {},
     "output_type": "execute_result"
    }
   ],
   "source": [
    "import numpy as np\n",
    "list_ = [ '1', '2' , '3' , '4' , '5' ]\n",
    "array_list = np.array(object = list_)\n",
    "array_list"
   ]
  },
  {
   "cell_type": "markdown",
   "id": "791ef26c-859f-4697-bf5a-d97168dcce7f",
   "metadata": {},
   "source": [
    "# Q1. Is there any difference in the data type of variables list_ and array_list? If there is then write a codeto print the data types of both the variables."
   ]
  },
  {
   "cell_type": "markdown",
   "id": "86a3917b-6c53-446c-b85c-6d0be2d80ee1",
   "metadata": {},
   "source": [
    " ANSWER :- Yes, there is a difference in the data type between the list_ and array_list variables.\n",
    "\n",
    "The list_ variable is a Python list, while the array_list variable is a NumPy array created from that list."
   ]
  },
  {
   "cell_type": "code",
   "execution_count": 2,
   "id": "883a5ffa-3e32-4887-b399-ca870ec3a640",
   "metadata": {},
   "outputs": [
    {
     "name": "stdout",
     "output_type": "stream",
     "text": [
      "Data type of list_: <class 'list'>\n",
      "Data type of array_list: <class 'numpy.ndarray'>\n"
     ]
    }
   ],
   "source": [
    "import numpy as np\n",
    "\n",
    "list_ = ['1', '2', '3', '4', '5']\n",
    "array_list = np.array(object=list_)\n",
    "\n",
    "print(\"Data type of list_:\", type(list_))\n",
    "print(\"Data type of array_list:\", type(array_list))\n"
   ]
  },
  {
   "cell_type": "markdown",
   "id": "03d967f0-1b2f-48fa-9c36-a1d015ecdcef",
   "metadata": {},
   "source": [
    "# Q2. Write a code to print the data type of each and every element of both the variables list_ andarra_list."
   ]
  },
  {
   "cell_type": "code",
   "execution_count": 3,
   "id": "052b17a1-ddbf-449a-bc29-2a33893adff6",
   "metadata": {},
   "outputs": [
    {
     "name": "stdout",
     "output_type": "stream",
     "text": [
      "The data type of list is  <class 'str'>\n",
      "The data type of list is  <class 'str'>\n",
      "The data type of list is  <class 'str'>\n",
      "The data type of list is  <class 'str'>\n",
      "The data type of list is  <class 'str'>\n",
      "The data type of array_list is <class 'numpy.str_'>\n",
      "The data type of array_list is <class 'numpy.str_'>\n",
      "The data type of array_list is <class 'numpy.str_'>\n",
      "The data type of array_list is <class 'numpy.str_'>\n",
      "The data type of array_list is <class 'numpy.str_'>\n"
     ]
    }
   ],
   "source": [
    "import numpy as np\n",
    "\n",
    "list_ = ['1', '2', '3', '4', '5']\n",
    "array_list = np.array(object=list_)\n",
    "\n",
    "for elements in list_:\n",
    "    print(\"The data type of list is \",type(elements))\n",
    "\n",
    "for elem in array_list:\n",
    "    print(\"The data type of array_list is\",type(elem))"
   ]
  },
  {
   "cell_type": "markdown",
   "id": "c8fb738e-250f-471c-bec2-97ddbe17ccdb",
   "metadata": {},
   "source": [
    "# Q3. Considering the following changes in the variable, array_list:array_list = np.array(object = list_, dtype = int)\n",
    "\n",
    "# Will there be any difference in the data type of the elements present in both the variables, list_ and array_list? If so then print the data types of each and every element present in both the variables, list_ and array_list.\n",
    "\n"
   ]
  },
  {
   "cell_type": "code",
   "execution_count": 4,
   "id": "708ffc33-44c5-4bde-aba2-aae1b0e919c8",
   "metadata": {},
   "outputs": [
    {
     "name": "stdout",
     "output_type": "stream",
     "text": [
      "The data type of list is  <class 'str'>\n",
      "The data type of list is  <class 'str'>\n",
      "The data type of list is  <class 'str'>\n",
      "The data type of list is  <class 'str'>\n",
      "The data type of list is  <class 'str'>\n",
      "The data type of array_list is <class 'numpy.int64'>\n",
      "The data type of array_list is <class 'numpy.int64'>\n",
      "The data type of array_list is <class 'numpy.int64'>\n",
      "The data type of array_list is <class 'numpy.int64'>\n",
      "The data type of array_list is <class 'numpy.int64'>\n"
     ]
    }
   ],
   "source": [
    "import numpy as np\n",
    "\n",
    "list_ = ['1', '2', '3', '4', '5']\n",
    "array_list = np.array(object=list_, dtype=int)\n",
    "\n",
    "\n",
    "for elements in list_:\n",
    "    print(\"The data type of list is \",type(elements))\n",
    "\n",
    "for elem in array_list:\n",
    "    print(\"The data type of array_list is\",type(elem))"
   ]
  },
  {
   "cell_type": "markdown",
   "id": "ee94d742-afc3-4474-9df6-581854d5872a",
   "metadata": {},
   "source": [
    "# Consider the below code to answer further questions:import numpy as npnum_list = [ [ 1 , 2 , 3 ] , [ 4 , 5 , 6 ] ]num_array = np.array(object = num_list)"
   ]
  },
  {
   "cell_type": "markdown",
   "id": "e314b6b1-7e66-4257-a60f-e38f9bb97623",
   "metadata": {},
   "source": [
    "# Q4. Write a code to find the following characteristics of variable, num_array:(i) shape(ii) size"
   ]
  },
  {
   "cell_type": "code",
   "execution_count": 5,
   "id": "99ab91d3-5268-484b-ba57-80df84654c96",
   "metadata": {},
   "outputs": [
    {
     "name": "stdout",
     "output_type": "stream",
     "text": [
      "The Shape of num_array is (2, 3)\n",
      "The Size of num_array is 6\n"
     ]
    }
   ],
   "source": [
    "import numpy as np\n",
    "num_list = [ [ 1 , 2 , 3 ] , [ 4 , 5 , 6 ] ]\n",
    "num_array = np.array(object = num_list)\n",
    "\n",
    "shape = np.shape(num_array)\n",
    "size = np.size(num_array)\n",
    "print(\"The Shape of num_array is\", shape)\n",
    "print(\"The Size of num_array is\", size)"
   ]
  },
  {
   "cell_type": "markdown",
   "id": "8f8be21b-a902-4d28-bb8b-2da3f7661433",
   "metadata": {},
   "source": [
    "# Q5. Write a code to create numpy array of 3*3 matrix containing zeros only, using a numpy arraycreation function."
   ]
  },
  {
   "cell_type": "code",
   "execution_count": 6,
   "id": "22917754-1ae5-4667-a5a8-63c5677ba8e0",
   "metadata": {},
   "outputs": [
    {
     "data": {
      "text/plain": [
       "array([[4, 5, 1],\n",
       "       [3, 5, 4],\n",
       "       [1, 9, 2]])"
      ]
     },
     "execution_count": 6,
     "metadata": {},
     "output_type": "execute_result"
    }
   ],
   "source": [
    "data=np.random.randint(1,10,(3,3))\n",
    "data"
   ]
  },
  {
   "cell_type": "markdown",
   "id": "860783fd-68b8-4c28-873f-6e464d9642ff",
   "metadata": {},
   "source": [
    "# Q6. Create an identity matrix of shape (5,5) using numpy functions?\n",
    " "
   ]
  },
  {
   "cell_type": "code",
   "execution_count": 9,
   "id": "b8a03a27-a979-4d0f-9fc1-822093c5d90a",
   "metadata": {},
   "outputs": [
    {
     "data": {
      "text/plain": [
       "array([[1, 0, 0, 0, 0],\n",
       "       [0, 1, 0, 0, 0],\n",
       "       [0, 0, 1, 0, 0],\n",
       "       [0, 0, 0, 1, 0],\n",
       "       [0, 0, 0, 0, 1]])"
      ]
     },
     "execution_count": 9,
     "metadata": {},
     "output_type": "execute_result"
    }
   ],
   "source": [
    "data1=np.diag([1,1,1,1,1,])\n",
    "data1"
   ]
  },
  {
   "cell_type": "code",
   "execution_count": null,
   "id": "98780636-b4cf-4a05-a3a1-286dd6e38494",
   "metadata": {},
   "outputs": [],
   "source": []
  },
  {
   "cell_type": "code",
   "execution_count": null,
   "id": "9ca5653d-0185-4fc8-994c-ebfb0c526a28",
   "metadata": {},
   "outputs": [],
   "source": []
  }
 ],
 "metadata": {
  "kernelspec": {
   "display_name": "Python 3 (ipykernel)",
   "language": "python",
   "name": "python3"
  },
  "language_info": {
   "codemirror_mode": {
    "name": "ipython",
    "version": 3
   },
   "file_extension": ".py",
   "mimetype": "text/x-python",
   "name": "python",
   "nbconvert_exporter": "python",
   "pygments_lexer": "ipython3",
   "version": "3.10.8"
  }
 },
 "nbformat": 4,
 "nbformat_minor": 5
}

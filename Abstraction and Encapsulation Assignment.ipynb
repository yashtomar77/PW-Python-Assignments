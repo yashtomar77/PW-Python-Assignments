{
 "cells": [
  {
   "cell_type": "markdown",
   "id": "fb38f60a-72be-46ff-8d61-2ecfe8d16ecf",
   "metadata": {},
   "source": [
    "# Abstraction and Encapsulation Assignment"
   ]
  },
  {
   "cell_type": "markdown",
   "id": "afc373e9-ee95-44cc-9f82-4f13ebc393ec",
   "metadata": {},
   "source": [
    "# Q1. What is Abstraction in OOps? Explain with an example."
   ]
  },
  {
   "cell_type": "markdown",
   "id": "1488ad48-cd90-47af-8611-668382fb69da",
   "metadata": {},
   "source": [
    "In Python , Abstraction is typcally achieved through the use of abstract classes and interfaces. An abstract class is a class that cannot be used to create objects directly from it. It is meant to serve as a blueprint for derived classes.  It defines a common interface and a set of methods that must be implemented by its subclasses."
   ]
  },
  {
   "cell_type": "code",
   "execution_count": 2,
   "id": "4c71a3c5-4220-41fa-a411-3066a6f8fb34",
   "metadata": {},
   "outputs": [],
   "source": [
    "import abc\n",
    "\n",
    "class employee_details:\n",
    "    \n",
    "    @abc.abstractclassmethod\n",
    "    def employee_salary(self):\n",
    "        pass\n",
    "    \n",
    "    @abc.abstractmethod\n",
    "    def employee_experience(self):\n",
    "        pass"
   ]
  },
  {
   "cell_type": "code",
   "execution_count": 4,
   "id": "cd4edb57-a72a-4ed3-8495-f730f2fc187e",
   "metadata": {},
   "outputs": [],
   "source": [
    "class marketing_team(employee_details):\n",
    "    \n",
    "    def employee_salary(self):\n",
    "        return \"Each marketor will get paid around 6-5 lpa\"\n",
    "    \n",
    "    def employee_experiencxe(self):\n",
    "        return \"Eac marketorshould have 3 to 4 years experience \""
   ]
  },
  {
   "cell_type": "code",
   "execution_count": 12,
   "id": "2ed36efd-7f8d-4f56-9728-c03ad8c86ce0",
   "metadata": {},
   "outputs": [],
   "source": [
    "class production_team (employee_details):\n",
    "    \n",
    "    def employee_salary (self):\n",
    "        return \"Each employee will get 7-8 lpa \"\n",
    "    \n",
    "    def employee_experience (self):\n",
    "        return \"Each employee should have a 2 to 4 years field experience\""
   ]
  },
  {
   "cell_type": "code",
   "execution_count": 15,
   "id": "c44e1911-63ef-42a7-bf2f-9adcdbb38d56",
   "metadata": {},
   "outputs": [],
   "source": [
    "obj_pro = production_team()"
   ]
  },
  {
   "cell_type": "code",
   "execution_count": 16,
   "id": "68ac8c8c-020e-4282-9ce9-65b42bb94aa6",
   "metadata": {},
   "outputs": [
    {
     "data": {
      "text/plain": [
       "'Each employee will get 7-8 lpa '"
      ]
     },
     "execution_count": 16,
     "metadata": {},
     "output_type": "execute_result"
    }
   ],
   "source": [
    "obj_pro.employee_salary()"
   ]
  },
  {
   "cell_type": "markdown",
   "id": "434269dc-5c15-4f67-b581-e0246f63e992",
   "metadata": {},
   "source": [
    "# Q2. Differentiate between Abstraction and Encapsulation. Explain with an example."
   ]
  },
  {
   "cell_type": "markdown",
   "id": "cf5ab7c4-6aaf-4958-b434-6e5e5a53985f",
   "metadata": {},
   "source": [
    "# Abstraction\n",
    "\n",
    "Abstraction is typcally achieved through the use of abstract classes and interfaces. An abstract class is a class that cannot be used to create objects directly from it. It is meant to serve as a blueprint for derived classes."
   ]
  },
  {
   "cell_type": "markdown",
   "id": "24f7cf88-db0f-42b5-a287-528e9253d0c1",
   "metadata": {},
   "source": [
    "# Encapsulation\n",
    "\n",
    "Encapsulation involves  hiding the internal implementation details of an object and exposing only the necessary public interfaces or methods to interact with the object. "
   ]
  },
  {
   "cell_type": "code",
   "execution_count": 19,
   "id": "41ca9921-e558-4a6b-881d-c611c3e04e54",
   "metadata": {},
   "outputs": [],
   "source": [
    "# Abstraction example\n",
    "\n",
    "import abc\n",
    "\n",
    "class Shape:\n",
    "    @abc.abstractmethod\n",
    "    def calculate_area(self):\n",
    "        pass\n",
    "\n",
    "    @abc.abstractmethod\n",
    "    def calculate_perimeter(self):\n",
    "        pass\n",
    "    \n",
    "class Rectangle(Shape):\n",
    "    def __init__(self, length, width):\n",
    "        self.length = length\n",
    "        self.width = width\n",
    "\n",
    "    def calculate_area(self):\n",
    "        return self.length * self.width\n",
    "\n",
    "    def calculate_perimeter(self):\n",
    "        return 2 * (self.length + self.width)\n",
    "    \n",
    "class Circle(Shape):\n",
    "    def __init__(self, radius):\n",
    "        self.radius = radius\n",
    "\n",
    "    def calculate_area(self):\n",
    "        return 3.14 * self.radius * self.radius\n",
    "\n",
    "    def calculate_perimeter(self):\n",
    "        return 2 * 3.14 * self.radius"
   ]
  },
  {
   "cell_type": "code",
   "execution_count": 28,
   "id": "b036841d-467e-4503-96f7-8cb57b0c4ed8",
   "metadata": {},
   "outputs": [],
   "source": [
    "# Encapsulation Example\n",
    "\n",
    "class instagram_settings:\n",
    "    \n",
    "     def __init__(self , user_name , password):\n",
    "        self.__user_name = user_name\n",
    "        self.__password = password\n",
    "        \n",
    "     def change_password(self , username1 , password1):\n",
    "            if username1 == self.__user_name and password1 == self.__password :\n",
    "                 return \"you can create a new password\"\n",
    "            else:\n",
    "                return \" incorrect username and password\""
   ]
  },
  {
   "cell_type": "code",
   "execution_count": 29,
   "id": "224e347c-a5c1-4188-b9e4-6ca9f9972566",
   "metadata": {},
   "outputs": [],
   "source": [
    "obj = instagram_settings( \"venom_yash_3.16\" , 788844)"
   ]
  },
  {
   "cell_type": "code",
   "execution_count": 30,
   "id": "956262c6-e740-40f9-bfa0-324b27268a0b",
   "metadata": {},
   "outputs": [
    {
     "data": {
      "text/plain": [
       "' incorrect username and password'"
      ]
     },
     "execution_count": 30,
     "metadata": {},
     "output_type": "execute_result"
    }
   ],
   "source": [
    "obj.change_password(\"elon_musk\" , 55555)"
   ]
  },
  {
   "cell_type": "markdown",
   "id": "5fb470c3-76d7-430a-b575-32c2398155db",
   "metadata": {},
   "source": [
    "# Q3. What is abc module in python? Why is it used?"
   ]
  },
  {
   "cell_type": "markdown",
   "id": "916e9b05-e6d4-4524-a550-6269fa7ad668",
   "metadata": {},
   "source": [
    "The 'abc' module in Python stands for \"Abstract Base Classes.\" It is a built-in module in the Python standard library that provides mechanisms for defining abstract base classes (ABCs) and abstract methods.\n",
    "\n",
    "The abc module in Python is used to create abstract base classes (ABCs) and enforce the implementation of abstract methods. It helps in achieving code abstraction, reusability, consistency, and facilitates polymorphism."
   ]
  },
  {
   "cell_type": "markdown",
   "id": "82159170-5ed5-48e7-8a67-db93ff45be64",
   "metadata": {},
   "source": [
    "# Q4. How can we achieve data abstraction?"
   ]
  },
  {
   "cell_type": "markdown",
   "id": "2a96b5b4-356c-41be-8c73-e9bb7c47204c",
   "metadata": {},
   "source": [
    "Data abstraction can be achieved in Python through the use of classes and objects. Here are some techniques to achieve data abstraction:\n",
    "\n",
    "1. Classes: Define a class to represent the abstraction of a real-world object or concept. The class should encapsulate the necessary data and provide methods to interact with and manipulate that data.\n",
    "\n",
    "2. Getters and Setters: Implement getter and setter methods to provide controlled access to the class attributes. By using these methods, you can define how the data can be accessed and modified, enabling data abstraction by hiding the internal representation of the data.\n"
   ]
  },
  {
   "cell_type": "markdown",
   "id": "01b4a822-9ad8-45b9-8a2c-e7b9cb666afe",
   "metadata": {},
   "source": [
    "# Q5. Can we create an instance of an abstract class? Explain your answer."
   ]
  },
  {
   "cell_type": "markdown",
   "id": "e26f4bec-fdd2-4fa3-a901-39e97e08313d",
   "metadata": {},
   "source": [
    "No we cannot create an instance of an abstract class in python . An abstract class serves as a blueprint for derived classes . it provides one or more abstract methods that must be implemented by its subclasses.\n",
    "\n",
    "whenver you try create an INSTANCE OF an abstract class it will throe you a \"TYPEERROR\"."
   ]
  },
  {
   "cell_type": "code",
   "execution_count": null,
   "id": "8b6f87bd-80ef-439e-b315-b9b1cd947096",
   "metadata": {},
   "outputs": [],
   "source": []
  }
 ],
 "metadata": {
  "kernelspec": {
   "display_name": "Python 3 (ipykernel)",
   "language": "python",
   "name": "python3"
  },
  "language_info": {
   "codemirror_mode": {
    "name": "ipython",
    "version": 3
   },
   "file_extension": ".py",
   "mimetype": "text/x-python",
   "name": "python",
   "nbconvert_exporter": "python",
   "pygments_lexer": "ipython3",
   "version": "3.10.6"
  }
 },
 "nbformat": 4,
 "nbformat_minor": 5
}

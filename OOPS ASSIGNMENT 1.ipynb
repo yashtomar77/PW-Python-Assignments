{
 "cells": [
  {
   "cell_type": "markdown",
   "id": "e3143678",
   "metadata": {},
   "source": [
    "# OOPS ASSIGNMENT 1"
   ]
  },
  {
   "cell_type": "markdown",
   "id": "29ec9c3a",
   "metadata": {},
   "source": [
    "Q1. Explain Class and Object with respect to Object-Oriented Programming. Give a suitable example."
   ]
  },
  {
   "cell_type": "markdown",
   "id": "e59c1f74",
   "metadata": {},
   "source": [
    "In Object-Oriented-Programming class is a blueprint or a template for creating objects. It defines the attributes or methods  that objects of that class will possess.  It serves as a reusable structure that encapsulates data and functionality.\n",
    "\n",
    "An object, on the other hand, is an instance of a class. It represents a specific occurrence or realization of the class, created using the blueprint provided by the class. Objects have their own unique state (attribute values) and can perform actions (invoke methods) defined in the class.\n"
   ]
  },
  {
   "cell_type": "code",
   "execution_count": 8,
   "id": "2d3223a1",
   "metadata": {},
   "outputs": [
    {
     "data": {
      "text/plain": [
       "'This is the 455 speed of the car'"
      ]
     },
     "execution_count": 8,
     "metadata": {},
     "output_type": "execute_result"
    }
   ],
   "source": [
    "# Suitable example\n",
    "\n",
    "class vehicle :\n",
    "    \n",
    "    def __init__(self, brand , model , colour):\n",
    "        self.brand  = brand\n",
    "        self.model = model\n",
    "        self.colour = colour\n",
    "        \n",
    "    def car_speed(self , speed):\n",
    "        return f\"This is the {speed} speed of the car\"\n",
    "        \n",
    "obj = vehicle(\"Toyata\" , \"corolla\" ,\"red\")\n",
    "\n",
    "obj.car_speed(455)"
   ]
  },
  {
   "cell_type": "markdown",
   "id": "85cd7680",
   "metadata": {},
   "source": [
    "Q2. Name the four pillars of OOPs."
   ]
  },
  {
   "cell_type": "markdown",
   "id": "d1b44e76",
   "metadata": {},
   "source": [
    "The four pillars of Oops...\n",
    "1. Incapsulation = It involves hiding the internal implementation details of an object and exposing only the necessary interfaces to interact with the object.\n",
    "\n",
    "2. Inheritance =  Inheritance is a mechanism that allows a class to inherit the properties and methods of another class, known as the superclass or base class\n",
    "\n",
    "3. Polymorphism = In OOP, polymorphism allows objects of different classes that are related through inheritance to be treated as objects of a common superclass.\n",
    "\n",
    "4. Abstraction = It allows the creation of abstract classes or interfaces that define a common structure and behavior for a group of related classes."
   ]
  },
  {
   "cell_type": "markdown",
   "id": "55f8527e",
   "metadata": {},
   "source": [
    "Q3. Explain why the __init__() function is used. Give a suitable example."
   ]
  },
  {
   "cell_type": "markdown",
   "id": "b94abe25",
   "metadata": {},
   "source": [
    "The __init__() function, also known as the constructor method, is a special method in Python classes. It allows you to define and assign initial values to the methods of an object ."
   ]
  },
  {
   "cell_type": "code",
   "execution_count": 10,
   "id": "ceacb815",
   "metadata": {},
   "outputs": [
    {
     "name": "stdout",
     "output_type": "stream",
     "text": [
      "Hello, my name is raj and I'm 25 years old.\n"
     ]
    }
   ],
   "source": [
    "class Person:\n",
    "    def __init__(self, name, age):\n",
    "        self.name = name\n",
    "        self.age = age\n",
    "\n",
    "    def greet(self):\n",
    "        print(f\"Hello, my name is {self.name} and I'm {self.age} years old.\")\n",
    "\n",
    "\n",
    "\n",
    "person1 = Person(\"raj\", 25)\n",
    "\n",
    "person1.name\n",
    "person1.age\n",
    "\n",
    "\n",
    "person1.greet()  \n"
   ]
  },
  {
   "cell_type": "markdown",
   "id": "3db58891",
   "metadata": {},
   "source": [
    "Q4. Why self is used in OOPs?"
   ]
  },
  {
   "cell_type": "markdown",
   "id": "f0b0a3bf",
   "metadata": {},
   "source": [
    "In python, 'Self' is ued to bind the attributes and methods with the class defined itself. you can use your own name in the place of self"
   ]
  },
  {
   "cell_type": "markdown",
   "id": "b45634fb",
   "metadata": {},
   "source": [
    "Q5. What is inheritance? Give an example for each type of inheritance."
   ]
  },
  {
   "cell_type": "markdown",
   "id": "47c25183",
   "metadata": {},
   "source": [
    "Inheritance is a fundamental concept in object-oriented programming (OOP) that allows a class to inherit properties and methods from another class. The class that is being inherited from is called the superclass or base class, and the class that inherits from it is called the subclass or derived class.\n",
    "\n",
    "There are different types of inheritance :-\n",
    "1. Single inheritance\n",
    "2. Multiple inheritance \n",
    "3. Multi level inhritance"
   ]
  },
  {
   "cell_type": "code",
   "execution_count": 31,
   "id": "9a17c7a0",
   "metadata": {},
   "outputs": [
    {
     "data": {
      "text/plain": [
       "'I am a child'"
      ]
     },
     "execution_count": 31,
     "metadata": {},
     "output_type": "execute_result"
    }
   ],
   "source": [
    "# Single inheritancre\n",
    "\n",
    "class parent_class:\n",
    "     def parent_method(self):\n",
    "        return \"I am a parent\"   \n",
    "        \n",
    "class child_method(parent_class):\n",
    "    def child_method(self):\n",
    "        return \"I am a child\"\n",
    "    \n",
    "obj = child_method()\n",
    "\n",
    "obj.parent_method()   # output:- \"I am a parent\" \n",
    "obj.child_method()    # output:- \"I am a child\""
   ]
  },
  {
   "cell_type": "code",
   "execution_count": 34,
   "id": "b44f059f",
   "metadata": {},
   "outputs": [
    {
     "data": {
      "text/plain": [
       "'and my age is 18 years old.'"
      ]
     },
     "execution_count": 34,
     "metadata": {},
     "output_type": "execute_result"
    }
   ],
   "source": [
    "# Multi level inheritance\n",
    "\n",
    "class father_class:\n",
    "    \n",
    "    def father_age(self):\n",
    "        return \"My father's age is 48\"\n",
    "\n",
    "class mother_class(father_class):\n",
    "    \n",
    "    def mother_age(self):\n",
    "        return \"and my mother age is 39 \"\n",
    "    \n",
    "class child_class1(mother_class):\n",
    "    \n",
    "    def child_age(self): \n",
    "        return \"and my age is 18 years old.\"\n",
    "    \n",
    "obj1 = child_class1()\n",
    "\n",
    "obj1.father_age()     # output:- \"My father's age is 48\"\n",
    "obj1.mother_age()     # output:- \"and my mother age is 39 \"\n",
    "obj1.child_age()      # output:- \"and my age is 18 years old.\""
   ]
  },
  {
   "cell_type": "code",
   "execution_count": 35,
   "id": "7dfbad84",
   "metadata": {},
   "outputs": [
    {
     "data": {
      "text/plain": [
       "'and my age is 18 years old.'"
      ]
     },
     "execution_count": 35,
     "metadata": {},
     "output_type": "execute_result"
    }
   ],
   "source": [
    "# Multiple inheritance\n",
    "\n",
    "# I am taking the previous example for this.\n",
    "\n",
    "class father_class:\n",
    "    \n",
    "    def father_age(self):\n",
    "        return \"My father's age is 48\"\n",
    "\n",
    "class mother_class:\n",
    "    \n",
    "    def mother_age(self):\n",
    "        return \"and my mother age is 39 \"\n",
    "    \n",
    "class child_class1(father_class , mother_class):\n",
    "    \n",
    "    def child_age(self): \n",
    "        return \"and my age is 18 years old.\"\n",
    "    \n",
    "obj1 = child_class1()\n",
    "\n",
    "obj1.father_age()     # output:- \"My father's age is 48\"\n",
    "obj1.mother_age()     # output:- \"and my mother age is 39 \"\n",
    "obj1.child_age()      # output:- \"and my age is 18 years old.\""
   ]
  },
  {
   "cell_type": "code",
   "execution_count": null,
   "id": "74d3024b",
   "metadata": {},
   "outputs": [],
   "source": []
  }
 ],
 "metadata": {
  "kernelspec": {
   "display_name": "Python 3 (ipykernel)",
   "language": "python",
   "name": "python3"
  },
  "language_info": {
   "codemirror_mode": {
    "name": "ipython",
    "version": 3
   },
   "file_extension": ".py",
   "mimetype": "text/x-python",
   "name": "python",
   "nbconvert_exporter": "python",
   "pygments_lexer": "ipython3",
   "version": "3.9.7"
  }
 },
 "nbformat": 4,
 "nbformat_minor": 5
}
